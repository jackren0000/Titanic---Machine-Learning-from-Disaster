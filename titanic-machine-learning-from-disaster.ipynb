{
 "cells": [
  {
   "cell_type": "markdown",
   "id": "5458cd2c",
   "metadata": {
    "papermill": {
     "duration": 0.010569,
     "end_time": "2024-02-08T14:41:01.927586",
     "exception": false,
     "start_time": "2024-02-08T14:41:01.917017",
     "status": "completed"
    },
    "tags": []
   },
   "source": [
    "## **Data Analysis of Titanic Dataset**"
   ]
  },
  {
   "cell_type": "markdown",
   "id": "598e7dc2",
   "metadata": {
    "papermill": {
     "duration": 0.009931,
     "end_time": "2024-02-08T14:41:01.947639",
     "exception": false,
     "start_time": "2024-02-08T14:41:01.937708",
     "status": "completed"
    },
    "tags": []
   },
   "source": [
    "### Define the objective:\n",
    "*The goal of this data analysis is to find relevance and patterns of the dataset, using statistical method and data visualization to show a clear relationship between different features within the dataset.*"
   ]
  },
  {
   "cell_type": "code",
   "execution_count": 1,
   "id": "f6a69a86",
   "metadata": {
    "_cell_guid": "b1076dfc-b9ad-4769-8c92-a6c4dae69d19",
    "_uuid": "8f2839f25d086af736a60e9eeb907d3b93b6e0e5",
    "execution": {
     "iopub.execute_input": "2024-02-08T14:41:01.969843Z",
     "iopub.status.busy": "2024-02-08T14:41:01.968849Z",
     "iopub.status.idle": "2024-02-08T14:41:07.706217Z",
     "shell.execute_reply": "2024-02-08T14:41:07.705346Z"
    },
    "papermill": {
     "duration": 5.750983,
     "end_time": "2024-02-08T14:41:07.708515",
     "exception": false,
     "start_time": "2024-02-08T14:41:01.957532",
     "status": "completed"
    },
    "tags": []
   },
   "outputs": [],
   "source": [
    "#### import libraries\n",
    "import numpy as np\n",
    "import pandas as pd\n",
    "import os\n",
    "import matplotlib.pyplot as plt\n",
    "\n",
    "# import KNN from scikit-learn library (especially for ML)\n",
    "from sklearn.neighbors import KNeighborsClassifier\n",
    "# import logistic regression model\n",
    "from sklearn.linear_model import LogisticRegression\n",
    "# import random forest model\n",
    "from sklearn.ensemble import RandomForestClassifier\n",
    "# import data split method \n",
    "from sklearn.model_selection import train_test_split\n",
    "# import K-fold cross-validation method\n",
    "from sklearn.model_selection import GridSearchCV\n",
    "# import evaluation method\n",
    "from sklearn.metrics import accuracy_score, classification_report\n",
    "# normalize the data\n",
    "from sklearn.preprocessing import StandardScaler, MinMaxScaler\n",
    "\n",
    "# import PyTorch for Deep Learning\n",
    "import torch\n",
    "# import neural network\n",
    "from torch import nn\n",
    "# import relative math functions\n",
    "import torch.nn.functional as F\n",
    "# import PyTorch DataLoader\n",
    "from torch.utils.data import Dataset, DataLoader"
   ]
  },
  {
   "cell_type": "markdown",
   "id": "7ca54aa0",
   "metadata": {
    "papermill": {
     "duration": 0.010406,
     "end_time": "2024-02-08T14:41:07.729698",
     "exception": false,
     "start_time": "2024-02-08T14:41:07.719292",
     "status": "completed"
    },
    "tags": []
   },
   "source": [
    "### Data Collection:\n",
    "*Collect the relevant data from competition website, then convert it into pandas DataFrame.*"
   ]
  },
  {
   "cell_type": "code",
   "execution_count": 2,
   "id": "a2027bbf",
   "metadata": {
    "execution": {
     "iopub.execute_input": "2024-02-08T14:41:07.751861Z",
     "iopub.status.busy": "2024-02-08T14:41:07.751376Z",
     "iopub.status.idle": "2024-02-08T14:41:07.779666Z",
     "shell.execute_reply": "2024-02-08T14:41:07.778613Z"
    },
    "papermill": {
     "duration": 0.042017,
     "end_time": "2024-02-08T14:41:07.781800",
     "exception": false,
     "start_time": "2024-02-08T14:41:07.739783",
     "status": "completed"
    },
    "tags": []
   },
   "outputs": [],
   "source": [
    "#### load the data\n",
    "DIR_PATH = '/kaggle/input/titanic'\n",
    "# load the train data, which is split into train and test (validation) afterwards\n",
    "train = pd.read_csv(os.path.join(DIR_PATH, 'train.csv'))\n",
    "# the true test data, which is used to provide an unbiased evaluation of a final model fit\n",
    "test = pd.read_csv(os.path.join(DIR_PATH, 'test.csv'))"
   ]
  },
  {
   "cell_type": "markdown",
   "id": "ad4a80c8",
   "metadata": {
    "papermill": {
     "duration": 0.01072,
     "end_time": "2024-02-08T14:41:07.804056",
     "exception": false,
     "start_time": "2024-02-08T14:41:07.793336",
     "status": "completed"
    },
    "tags": []
   },
   "source": [
    "### Data Clearning:\n",
    "*Clean the unhelpful columns, NaN value, duplicates and inconsistencies.*"
   ]
  },
  {
   "cell_type": "code",
   "execution_count": 3,
   "id": "f85248fd",
   "metadata": {
    "execution": {
     "iopub.execute_input": "2024-02-08T14:41:07.826250Z",
     "iopub.status.busy": "2024-02-08T14:41:07.825971Z",
     "iopub.status.idle": "2024-02-08T14:41:07.848909Z",
     "shell.execute_reply": "2024-02-08T14:41:07.847837Z"
    },
    "papermill": {
     "duration": 0.035733,
     "end_time": "2024-02-08T14:41:07.850873",
     "exception": false,
     "start_time": "2024-02-08T14:41:07.815140",
     "status": "completed"
    },
    "tags": []
   },
   "outputs": [
    {
     "name": "stdout",
     "output_type": "stream",
     "text": [
      "<class 'pandas.core.frame.DataFrame'>\n",
      "RangeIndex: 891 entries, 0 to 890\n",
      "Data columns (total 12 columns):\n",
      " #   Column       Non-Null Count  Dtype  \n",
      "---  ------       --------------  -----  \n",
      " 0   PassengerId  891 non-null    int64  \n",
      " 1   Survived     891 non-null    int64  \n",
      " 2   Pclass       891 non-null    int64  \n",
      " 3   Name         891 non-null    object \n",
      " 4   Sex          891 non-null    object \n",
      " 5   Age          714 non-null    float64\n",
      " 6   SibSp        891 non-null    int64  \n",
      " 7   Parch        891 non-null    int64  \n",
      " 8   Ticket       891 non-null    object \n",
      " 9   Fare         891 non-null    float64\n",
      " 10  Cabin        204 non-null    object \n",
      " 11  Embarked     889 non-null    object \n",
      "dtypes: float64(2), int64(5), object(5)\n",
      "memory usage: 83.7+ KB\n"
     ]
    }
   ],
   "source": [
    "train.info()"
   ]
  },
  {
   "cell_type": "markdown",
   "id": "14b7f8f6",
   "metadata": {
    "papermill": {
     "duration": 0.010062,
     "end_time": "2024-02-08T14:41:07.872781",
     "exception": false,
     "start_time": "2024-02-08T14:41:07.862719",
     "status": "completed"
    },
    "tags": []
   },
   "source": [
    "Note: 'Age', 'Cabin' and 'Embarked' columns have missing values."
   ]
  },
  {
   "cell_type": "code",
   "execution_count": 4,
   "id": "e8cdea0a",
   "metadata": {
    "execution": {
     "iopub.execute_input": "2024-02-08T14:41:07.894772Z",
     "iopub.status.busy": "2024-02-08T14:41:07.894044Z",
     "iopub.status.idle": "2024-02-08T14:41:07.912946Z",
     "shell.execute_reply": "2024-02-08T14:41:07.912182Z"
    },
    "papermill": {
     "duration": 0.03169,
     "end_time": "2024-02-08T14:41:07.915013",
     "exception": false,
     "start_time": "2024-02-08T14:41:07.883323",
     "status": "completed"
    },
    "tags": []
   },
   "outputs": [
    {
     "data": {
      "text/html": [
       "<div>\n",
       "<style scoped>\n",
       "    .dataframe tbody tr th:only-of-type {\n",
       "        vertical-align: middle;\n",
       "    }\n",
       "\n",
       "    .dataframe tbody tr th {\n",
       "        vertical-align: top;\n",
       "    }\n",
       "\n",
       "    .dataframe thead th {\n",
       "        text-align: right;\n",
       "    }\n",
       "</style>\n",
       "<table border=\"1\" class=\"dataframe\">\n",
       "  <thead>\n",
       "    <tr style=\"text-align: right;\">\n",
       "      <th></th>\n",
       "      <th>PassengerId</th>\n",
       "      <th>Survived</th>\n",
       "      <th>Pclass</th>\n",
       "      <th>Name</th>\n",
       "      <th>Sex</th>\n",
       "      <th>Age</th>\n",
       "      <th>SibSp</th>\n",
       "      <th>Parch</th>\n",
       "      <th>Ticket</th>\n",
       "      <th>Fare</th>\n",
       "      <th>Cabin</th>\n",
       "      <th>Embarked</th>\n",
       "    </tr>\n",
       "  </thead>\n",
       "  <tbody>\n",
       "    <tr>\n",
       "      <th>0</th>\n",
       "      <td>1</td>\n",
       "      <td>0</td>\n",
       "      <td>3</td>\n",
       "      <td>Braund, Mr. Owen Harris</td>\n",
       "      <td>male</td>\n",
       "      <td>22.0</td>\n",
       "      <td>1</td>\n",
       "      <td>0</td>\n",
       "      <td>A/5 21171</td>\n",
       "      <td>7.2500</td>\n",
       "      <td>NaN</td>\n",
       "      <td>S</td>\n",
       "    </tr>\n",
       "    <tr>\n",
       "      <th>1</th>\n",
       "      <td>2</td>\n",
       "      <td>1</td>\n",
       "      <td>1</td>\n",
       "      <td>Cumings, Mrs. John Bradley (Florence Briggs Th...</td>\n",
       "      <td>female</td>\n",
       "      <td>38.0</td>\n",
       "      <td>1</td>\n",
       "      <td>0</td>\n",
       "      <td>PC 17599</td>\n",
       "      <td>71.2833</td>\n",
       "      <td>C85</td>\n",
       "      <td>C</td>\n",
       "    </tr>\n",
       "    <tr>\n",
       "      <th>2</th>\n",
       "      <td>3</td>\n",
       "      <td>1</td>\n",
       "      <td>3</td>\n",
       "      <td>Heikkinen, Miss. Laina</td>\n",
       "      <td>female</td>\n",
       "      <td>26.0</td>\n",
       "      <td>0</td>\n",
       "      <td>0</td>\n",
       "      <td>STON/O2. 3101282</td>\n",
       "      <td>7.9250</td>\n",
       "      <td>NaN</td>\n",
       "      <td>S</td>\n",
       "    </tr>\n",
       "    <tr>\n",
       "      <th>3</th>\n",
       "      <td>4</td>\n",
       "      <td>1</td>\n",
       "      <td>1</td>\n",
       "      <td>Futrelle, Mrs. Jacques Heath (Lily May Peel)</td>\n",
       "      <td>female</td>\n",
       "      <td>35.0</td>\n",
       "      <td>1</td>\n",
       "      <td>0</td>\n",
       "      <td>113803</td>\n",
       "      <td>53.1000</td>\n",
       "      <td>C123</td>\n",
       "      <td>S</td>\n",
       "    </tr>\n",
       "    <tr>\n",
       "      <th>4</th>\n",
       "      <td>5</td>\n",
       "      <td>0</td>\n",
       "      <td>3</td>\n",
       "      <td>Allen, Mr. William Henry</td>\n",
       "      <td>male</td>\n",
       "      <td>35.0</td>\n",
       "      <td>0</td>\n",
       "      <td>0</td>\n",
       "      <td>373450</td>\n",
       "      <td>8.0500</td>\n",
       "      <td>NaN</td>\n",
       "      <td>S</td>\n",
       "    </tr>\n",
       "  </tbody>\n",
       "</table>\n",
       "</div>"
      ],
      "text/plain": [
       "   PassengerId  Survived  Pclass  \\\n",
       "0            1         0       3   \n",
       "1            2         1       1   \n",
       "2            3         1       3   \n",
       "3            4         1       1   \n",
       "4            5         0       3   \n",
       "\n",
       "                                                Name     Sex   Age  SibSp  \\\n",
       "0                            Braund, Mr. Owen Harris    male  22.0      1   \n",
       "1  Cumings, Mrs. John Bradley (Florence Briggs Th...  female  38.0      1   \n",
       "2                             Heikkinen, Miss. Laina  female  26.0      0   \n",
       "3       Futrelle, Mrs. Jacques Heath (Lily May Peel)  female  35.0      1   \n",
       "4                           Allen, Mr. William Henry    male  35.0      0   \n",
       "\n",
       "   Parch            Ticket     Fare Cabin Embarked  \n",
       "0      0         A/5 21171   7.2500   NaN        S  \n",
       "1      0          PC 17599  71.2833   C85        C  \n",
       "2      0  STON/O2. 3101282   7.9250   NaN        S  \n",
       "3      0            113803  53.1000  C123        S  \n",
       "4      0            373450   8.0500   NaN        S  "
      ]
     },
     "execution_count": 4,
     "metadata": {},
     "output_type": "execute_result"
    }
   ],
   "source": [
    "train.head()"
   ]
  },
  {
   "cell_type": "code",
   "execution_count": 5,
   "id": "878c8ccf",
   "metadata": {
    "execution": {
     "iopub.execute_input": "2024-02-08T14:41:07.937240Z",
     "iopub.status.busy": "2024-02-08T14:41:07.936981Z",
     "iopub.status.idle": "2024-02-08T14:41:08.054684Z",
     "shell.execute_reply": "2024-02-08T14:41:08.053739Z"
    },
    "papermill": {
     "duration": 0.130857,
     "end_time": "2024-02-08T14:41:08.056749",
     "exception": false,
     "start_time": "2024-02-08T14:41:07.925892",
     "status": "completed"
    },
    "tags": []
   },
   "outputs": [],
   "source": [
    "# define a function that categorizes fare\n",
    "def categorize_fare(fare):\n",
    "    if fare <= 10:\n",
    "        return 0\n",
    "    elif fare <= 50:\n",
    "        return 1\n",
    "    elif fare <= 100:\n",
    "        return 2\n",
    "    else:\n",
    "        return 3\n",
    "\n",
    "# define a function that categorizes age\n",
    "def categorize_age(age):\n",
    "    if age < 13:  \n",
    "        return 0\n",
    "    elif age < 20:  \n",
    "        return 1\n",
    "    elif age < 60:  \n",
    "        return 2\n",
    "    else:  \n",
    "        return 3\n",
    "\n",
    "def data_cleaning(df):\n",
    "    # impute missing ages with the median\n",
    "    df['Age'] = df['Age'].fillna(df['Age'].median())\n",
    "    # impute missing ages with the mean\n",
    "    df['Fare'] = df['Fare'].fillna(df['Fare'].mean())\n",
    "    # impute missing 'Embarked' values with the mode\n",
    "    most_common_embarked = df['Embarked'].mode()[0]\n",
    "    df['Embarked'] = df['Embarked'].fillna(most_common_embarked)\n",
    "    \n",
    "    # feature engineering\n",
    "    # create a new feature fare category\n",
    "    df['Fare_Category'] = df['Fare'].apply(categorize_fare)\n",
    "    df['Age_Category'] = df['Age'].apply(categorize_age)\n",
    "    # convert categorical data into numerical data\n",
    "    # use get_dummies() to perform one-hot encoding on 'Sex' and 'Embarked'\n",
    "    df = pd.get_dummies(df, columns=['Pclass', 'Sex', 'Embarked', 'Fare_Category', 'Age_Category'], dtype=int)\n",
    "    # drop unhelpful feature from the observation\n",
    "    df.drop(['PassengerId', 'Name', 'Ticket', 'Cabin'], axis=1, inplace=True)\n",
    "    \n",
    "    return df"
   ]
  },
  {
   "cell_type": "code",
   "execution_count": 6,
   "id": "f6aa2f7b",
   "metadata": {
    "execution": {
     "iopub.execute_input": "2024-02-08T14:41:08.079605Z",
     "iopub.status.busy": "2024-02-08T14:41:08.079232Z",
     "iopub.status.idle": "2024-02-08T14:41:08.098862Z",
     "shell.execute_reply": "2024-02-08T14:41:08.097970Z"
    },
    "papermill": {
     "duration": 0.033138,
     "end_time": "2024-02-08T14:41:08.100882",
     "exception": false,
     "start_time": "2024-02-08T14:41:08.067744",
     "status": "completed"
    },
    "tags": []
   },
   "outputs": [],
   "source": [
    "train = data_cleaning(train)"
   ]
  },
  {
   "cell_type": "code",
   "execution_count": 7,
   "id": "8a34deb9",
   "metadata": {
    "execution": {
     "iopub.execute_input": "2024-02-08T14:41:08.122808Z",
     "iopub.status.busy": "2024-02-08T14:41:08.122522Z",
     "iopub.status.idle": "2024-02-08T14:41:08.142345Z",
     "shell.execute_reply": "2024-02-08T14:41:08.141386Z"
    },
    "papermill": {
     "duration": 0.032939,
     "end_time": "2024-02-08T14:41:08.144440",
     "exception": false,
     "start_time": "2024-02-08T14:41:08.111501",
     "status": "completed"
    },
    "tags": []
   },
   "outputs": [
    {
     "data": {
      "text/html": [
       "<div>\n",
       "<style scoped>\n",
       "    .dataframe tbody tr th:only-of-type {\n",
       "        vertical-align: middle;\n",
       "    }\n",
       "\n",
       "    .dataframe tbody tr th {\n",
       "        vertical-align: top;\n",
       "    }\n",
       "\n",
       "    .dataframe thead th {\n",
       "        text-align: right;\n",
       "    }\n",
       "</style>\n",
       "<table border=\"1\" class=\"dataframe\">\n",
       "  <thead>\n",
       "    <tr style=\"text-align: right;\">\n",
       "      <th></th>\n",
       "      <th>Survived</th>\n",
       "      <th>Age</th>\n",
       "      <th>SibSp</th>\n",
       "      <th>Parch</th>\n",
       "      <th>Fare</th>\n",
       "      <th>Pclass_1</th>\n",
       "      <th>Pclass_2</th>\n",
       "      <th>Pclass_3</th>\n",
       "      <th>Sex_female</th>\n",
       "      <th>Sex_male</th>\n",
       "      <th>...</th>\n",
       "      <th>Embarked_Q</th>\n",
       "      <th>Embarked_S</th>\n",
       "      <th>Fare_Category_0</th>\n",
       "      <th>Fare_Category_1</th>\n",
       "      <th>Fare_Category_2</th>\n",
       "      <th>Fare_Category_3</th>\n",
       "      <th>Age_Category_0</th>\n",
       "      <th>Age_Category_1</th>\n",
       "      <th>Age_Category_2</th>\n",
       "      <th>Age_Category_3</th>\n",
       "    </tr>\n",
       "  </thead>\n",
       "  <tbody>\n",
       "    <tr>\n",
       "      <th>0</th>\n",
       "      <td>0</td>\n",
       "      <td>22.0</td>\n",
       "      <td>1</td>\n",
       "      <td>0</td>\n",
       "      <td>7.2500</td>\n",
       "      <td>0</td>\n",
       "      <td>0</td>\n",
       "      <td>1</td>\n",
       "      <td>0</td>\n",
       "      <td>1</td>\n",
       "      <td>...</td>\n",
       "      <td>0</td>\n",
       "      <td>1</td>\n",
       "      <td>1</td>\n",
       "      <td>0</td>\n",
       "      <td>0</td>\n",
       "      <td>0</td>\n",
       "      <td>0</td>\n",
       "      <td>0</td>\n",
       "      <td>1</td>\n",
       "      <td>0</td>\n",
       "    </tr>\n",
       "    <tr>\n",
       "      <th>1</th>\n",
       "      <td>1</td>\n",
       "      <td>38.0</td>\n",
       "      <td>1</td>\n",
       "      <td>0</td>\n",
       "      <td>71.2833</td>\n",
       "      <td>1</td>\n",
       "      <td>0</td>\n",
       "      <td>0</td>\n",
       "      <td>1</td>\n",
       "      <td>0</td>\n",
       "      <td>...</td>\n",
       "      <td>0</td>\n",
       "      <td>0</td>\n",
       "      <td>0</td>\n",
       "      <td>0</td>\n",
       "      <td>1</td>\n",
       "      <td>0</td>\n",
       "      <td>0</td>\n",
       "      <td>0</td>\n",
       "      <td>1</td>\n",
       "      <td>0</td>\n",
       "    </tr>\n",
       "    <tr>\n",
       "      <th>2</th>\n",
       "      <td>1</td>\n",
       "      <td>26.0</td>\n",
       "      <td>0</td>\n",
       "      <td>0</td>\n",
       "      <td>7.9250</td>\n",
       "      <td>0</td>\n",
       "      <td>0</td>\n",
       "      <td>1</td>\n",
       "      <td>1</td>\n",
       "      <td>0</td>\n",
       "      <td>...</td>\n",
       "      <td>0</td>\n",
       "      <td>1</td>\n",
       "      <td>1</td>\n",
       "      <td>0</td>\n",
       "      <td>0</td>\n",
       "      <td>0</td>\n",
       "      <td>0</td>\n",
       "      <td>0</td>\n",
       "      <td>1</td>\n",
       "      <td>0</td>\n",
       "    </tr>\n",
       "    <tr>\n",
       "      <th>3</th>\n",
       "      <td>1</td>\n",
       "      <td>35.0</td>\n",
       "      <td>1</td>\n",
       "      <td>0</td>\n",
       "      <td>53.1000</td>\n",
       "      <td>1</td>\n",
       "      <td>0</td>\n",
       "      <td>0</td>\n",
       "      <td>1</td>\n",
       "      <td>0</td>\n",
       "      <td>...</td>\n",
       "      <td>0</td>\n",
       "      <td>1</td>\n",
       "      <td>0</td>\n",
       "      <td>0</td>\n",
       "      <td>1</td>\n",
       "      <td>0</td>\n",
       "      <td>0</td>\n",
       "      <td>0</td>\n",
       "      <td>1</td>\n",
       "      <td>0</td>\n",
       "    </tr>\n",
       "    <tr>\n",
       "      <th>4</th>\n",
       "      <td>0</td>\n",
       "      <td>35.0</td>\n",
       "      <td>0</td>\n",
       "      <td>0</td>\n",
       "      <td>8.0500</td>\n",
       "      <td>0</td>\n",
       "      <td>0</td>\n",
       "      <td>1</td>\n",
       "      <td>0</td>\n",
       "      <td>1</td>\n",
       "      <td>...</td>\n",
       "      <td>0</td>\n",
       "      <td>1</td>\n",
       "      <td>1</td>\n",
       "      <td>0</td>\n",
       "      <td>0</td>\n",
       "      <td>0</td>\n",
       "      <td>0</td>\n",
       "      <td>0</td>\n",
       "      <td>1</td>\n",
       "      <td>0</td>\n",
       "    </tr>\n",
       "  </tbody>\n",
       "</table>\n",
       "<p>5 rows × 21 columns</p>\n",
       "</div>"
      ],
      "text/plain": [
       "   Survived   Age  SibSp  Parch     Fare  Pclass_1  Pclass_2  Pclass_3  \\\n",
       "0         0  22.0      1      0   7.2500         0         0         1   \n",
       "1         1  38.0      1      0  71.2833         1         0         0   \n",
       "2         1  26.0      0      0   7.9250         0         0         1   \n",
       "3         1  35.0      1      0  53.1000         1         0         0   \n",
       "4         0  35.0      0      0   8.0500         0         0         1   \n",
       "\n",
       "   Sex_female  Sex_male  ...  Embarked_Q  Embarked_S  Fare_Category_0  \\\n",
       "0           0         1  ...           0           1                1   \n",
       "1           1         0  ...           0           0                0   \n",
       "2           1         0  ...           0           1                1   \n",
       "3           1         0  ...           0           1                0   \n",
       "4           0         1  ...           0           1                1   \n",
       "\n",
       "   Fare_Category_1  Fare_Category_2  Fare_Category_3  Age_Category_0  \\\n",
       "0                0                0                0               0   \n",
       "1                0                1                0               0   \n",
       "2                0                0                0               0   \n",
       "3                0                1                0               0   \n",
       "4                0                0                0               0   \n",
       "\n",
       "   Age_Category_1  Age_Category_2  Age_Category_3  \n",
       "0               0               1               0  \n",
       "1               0               1               0  \n",
       "2               0               1               0  \n",
       "3               0               1               0  \n",
       "4               0               1               0  \n",
       "\n",
       "[5 rows x 21 columns]"
      ]
     },
     "execution_count": 7,
     "metadata": {},
     "output_type": "execute_result"
    }
   ],
   "source": [
    "# revisit the cleaned dataset\n",
    "train.head()"
   ]
  },
  {
   "cell_type": "markdown",
   "id": "c6551b2c",
   "metadata": {
    "papermill": {
     "duration": 0.010388,
     "end_time": "2024-02-08T14:41:08.165498",
     "exception": false,
     "start_time": "2024-02-08T14:41:08.155110",
     "status": "completed"
    },
    "tags": []
   },
   "source": [
    "### Data Preprocessing:"
   ]
  },
  {
   "cell_type": "markdown",
   "id": "82028b07",
   "metadata": {
    "papermill": {
     "duration": 0.010524,
     "end_time": "2024-02-08T14:41:08.186668",
     "exception": false,
     "start_time": "2024-02-08T14:41:08.176144",
     "status": "completed"
    },
    "tags": []
   },
   "source": [
    "#### Feature Engineering:\n",
    "*Create new features from existing ones to improve model performance.*"
   ]
  },
  {
   "cell_type": "code",
   "execution_count": 8,
   "id": "2d3752d1",
   "metadata": {
    "execution": {
     "iopub.execute_input": "2024-02-08T14:41:08.209400Z",
     "iopub.status.busy": "2024-02-08T14:41:08.209128Z",
     "iopub.status.idle": "2024-02-08T14:41:08.212807Z",
     "shell.execute_reply": "2024-02-08T14:41:08.211927Z"
    },
    "papermill": {
     "duration": 0.017399,
     "end_time": "2024-02-08T14:41:08.214732",
     "exception": false,
     "start_time": "2024-02-08T14:41:08.197333",
     "status": "completed"
    },
    "tags": []
   },
   "outputs": [],
   "source": [
    "#### feature engineering is added to data_clean() function for convenience\n",
    "# convert categorical data into numerical data\n",
    "# use get_dummies() to perform one-hot encoding on 'Sex' and 'Embarked'\n",
    "# df = pd.get_dummies(df, columns=['Pclass', 'Sex', 'Embarked'], dtype=int)"
   ]
  },
  {
   "cell_type": "code",
   "execution_count": 9,
   "id": "32dd5326",
   "metadata": {
    "execution": {
     "iopub.execute_input": "2024-02-08T14:41:08.237529Z",
     "iopub.status.busy": "2024-02-08T14:41:08.237241Z",
     "iopub.status.idle": "2024-02-08T14:41:08.502881Z",
     "shell.execute_reply": "2024-02-08T14:41:08.502004Z"
    },
    "papermill": {
     "duration": 0.279469,
     "end_time": "2024-02-08T14:41:08.504983",
     "exception": false,
     "start_time": "2024-02-08T14:41:08.225514",
     "status": "completed"
    },
    "tags": []
   },
   "outputs": [
    {
     "data": {
      "image/png": "[encoded data removed]",
      "text/plain": [
       "<Figure size 640x480 with 1 Axes>"
      ]
     },
     "metadata": {},
     "output_type": "display_data"
    }
   ],
   "source": [
    "# plotting the histogram of the 'Fare' column\n",
    "train['Fare'].hist(bins=30)\n",
    "\n",
    "# adding titles and labels\n",
    "plt.title('Histogram of Fare Values')\n",
    "plt.xlabel('Fare')\n",
    "plt.ylabel('Number of Passengers')\n",
    "plt.grid(True)\n",
    "# display the plot\n",
    "plt.show()"
   ]
  },
  {
   "cell_type": "code",
   "execution_count": 10,
   "id": "c709ee64",
   "metadata": {
    "execution": {
     "iopub.execute_input": "2024-02-08T14:41:08.529591Z",
     "iopub.status.busy": "2024-02-08T14:41:08.529258Z",
     "iopub.status.idle": "2024-02-08T14:41:08.534350Z",
     "shell.execute_reply": "2024-02-08T14:41:08.533493Z"
    },
    "papermill": {
     "duration": 0.01965,
     "end_time": "2024-02-08T14:41:08.536366",
     "exception": false,
     "start_time": "2024-02-08T14:41:08.516716",
     "status": "completed"
    },
    "tags": []
   },
   "outputs": [],
   "source": [
    "# define a function that categorizes fare\n",
    "def categorize_fare(fare):\n",
    "    if fare <= 50:\n",
    "        return 0\n",
    "    elif fare <= 100:\n",
    "        return 1\n",
    "    elif fare <= 150:\n",
    "        return 2\n",
    "    else:\n",
    "        return 3\n",
    "\n",
    "# apply the function to the 'Fare' column to create a new 'Fare_Category' column\n",
    "# df['Fare_Category'] = df['Fare'].apply(categorize_fare)"
   ]
  },
  {
   "cell_type": "markdown",
   "id": "d0a29fc7",
   "metadata": {
    "papermill": {
     "duration": 0.010651,
     "end_time": "2024-02-08T14:41:08.558186",
     "exception": false,
     "start_time": "2024-02-08T14:41:08.547535",
     "status": "completed"
    },
    "tags": []
   },
   "source": [
    "#### Data Transformation:\n",
    "*Normalize, scale, or encode data as necessary.*"
   ]
  },
  {
   "cell_type": "code",
   "execution_count": 11,
   "id": "be5cba89",
   "metadata": {
    "execution": {
     "iopub.execute_input": "2024-02-08T14:41:08.581032Z",
     "iopub.status.busy": "2024-02-08T14:41:08.580767Z",
     "iopub.status.idle": "2024-02-08T14:41:08.595044Z",
     "shell.execute_reply": "2024-02-08T14:41:08.594154Z"
    },
    "papermill": {
     "duration": 0.028073,
     "end_time": "2024-02-08T14:41:08.597141",
     "exception": false,
     "start_time": "2024-02-08T14:41:08.569068",
     "status": "completed"
    },
    "tags": []
   },
   "outputs": [],
   "source": [
    "# separate the feature matrix and the target value\n",
    "X = train.drop('Survived', axis=1)\n",
    "y = train['Survived']\n",
    "\n",
    "# normalize the data\n",
    "# split the dataset into train and test\n",
    "X_train, X_test, y_train, y_test = train_test_split(X, y, test_size=0.3, random_state=42)\n",
    "\n",
    "# scaling data helps to bring all the features to a uniform scale\n",
    "# initialize the scaler\n",
    "scaler = StandardScaler()\n",
    "# fit on training set only\n",
    "scaler.fit(X_train)\n",
    "# apply transform to both the training set and the test set\n",
    "X_train = scaler.transform(X_train)\n",
    "X_test = scaler.transform(X_test)"
   ]
  },
  {
   "cell_type": "markdown",
   "id": "110896e9",
   "metadata": {
    "papermill": {
     "duration": 0.010837,
     "end_time": "2024-02-08T14:41:08.619617",
     "exception": false,
     "start_time": "2024-02-08T14:41:08.608780",
     "status": "completed"
    },
    "tags": []
   },
   "source": [
    "### Data Modeling"
   ]
  },
  {
   "cell_type": "markdown",
   "id": "2a7f275c",
   "metadata": {
    "papermill": {
     "duration": 0.010841,
     "end_time": "2024-02-08T14:41:08.641535",
     "exception": false,
     "start_time": "2024-02-08T14:41:08.630694",
     "status": "completed"
    },
    "tags": []
   },
   "source": [
    "> > ### K-Nearest Neighbors: \n",
    "> > This is a type of instance-based supervised learning algorithm used for both classification and regression.  \n",
    "> \n",
    "> Pros:\n",
    "> 1. simple to understand and implement.\n",
    "> 2. no need to build a model, tune several parameters.\n",
    "> 3. the algorithm is versatile, it can be used for classification, regression and search (as in recommender system).\n",
    "> \n",
    "> Cons:\n",
    "> 1. the algorithm gets significantly slower as the dataset grows.\n",
    "> 2. requires high memory - needs to store all the training data.\n",
    "> 3. sensitive to the scale of the data and irrelevant features.\n",
    "> 4. typically not as accurate as more sophisticated methods, especially on datasets with a lot of features."
   ]
  },
  {
   "cell_type": "code",
   "execution_count": 12,
   "id": "82460209",
   "metadata": {
    "execution": {
     "iopub.execute_input": "2024-02-08T14:41:08.664418Z",
     "iopub.status.busy": "2024-02-08T14:41:08.664122Z",
     "iopub.status.idle": "2024-02-08T14:41:08.670337Z",
     "shell.execute_reply": "2024-02-08T14:41:08.669510Z"
    },
    "papermill": {
     "duration": 0.019874,
     "end_time": "2024-02-08T14:41:08.672258",
     "exception": false,
     "start_time": "2024-02-08T14:41:08.652384",
     "status": "completed"
    },
    "tags": []
   },
   "outputs": [],
   "source": [
    "def save_model_predictions_to_csv(model, test_dataset, scaler, output_filename='submission.csv'):\n",
    "    \n",
    "    try:\n",
    "        # save the 'PassengerId' column\n",
    "        PassengerId = test_dataset['PassengerId']\n",
    "        # clean the dataset\n",
    "        test_dataset = data_cleaning(test_dataset)\n",
    "        test_dataset = scaler.transform(test_dataset)\n",
    "        # make predictions using the provided model\n",
    "        y_pred = model.predict(test_dataset)\n",
    "\n",
    "        # create a DataFrame with 'PassengerId' and the predictions\n",
    "        submission_df = pd.DataFrame({\n",
    "            'PassengerId': PassengerId,\n",
    "            'Survived': y_pred\n",
    "        })\n",
    "\n",
    "        # save the DataFrame to a CSV file\n",
    "        submission_df.to_csv(output_filename, index=False)\n",
    "        print(f\"Your submission was successfully saved to {output_filename}!\")\n",
    "        \n",
    "    except Exception as e:\n",
    "        # handle any exceptions that might occur\n",
    "        print(\"An error occurred while saving the submission:\")\n",
    "        print(e)"
   ]
  },
  {
   "cell_type": "code",
   "execution_count": 13,
   "id": "a9dfccd3",
   "metadata": {
    "execution": {
     "iopub.execute_input": "2024-02-08T14:41:08.696561Z",
     "iopub.status.busy": "2024-02-08T14:41:08.696281Z",
     "iopub.status.idle": "2024-02-08T14:41:08.701721Z",
     "shell.execute_reply": "2024-02-08T14:41:08.700902Z"
    },
    "papermill": {
     "duration": 0.018979,
     "end_time": "2024-02-08T14:41:08.703491",
     "exception": false,
     "start_time": "2024-02-08T14:41:08.684512",
     "status": "completed"
    },
    "tags": []
   },
   "outputs": [],
   "source": [
    "def train_and_evaluate_knn(X_train, y_train, X_test, y_test, n_neighbors=3):\n",
    "    '''Train a K-Nearest Neighbors classifier and evaluate its accuracy.'''\n",
    "    \n",
    "    # initialize the KNN classifier\n",
    "    knn = KNeighborsClassifier(n_neighbors=n_neighbors)\n",
    "    # fit the model on the training data\n",
    "    knn.fit(X_train, y_train)\n",
    "    # predict the labels for the test set\n",
    "    y_pred = knn.predict(X_test)\n",
    "    # calculate the accuracy of the model\n",
    "    accuracy = accuracy_score(y_test, y_pred)\n",
    "    print(f'Accuracy: {accuracy: .2f}')\n",
    "    \n",
    "    return knn"
   ]
  },
  {
   "cell_type": "code",
   "execution_count": 14,
   "id": "378ba974",
   "metadata": {
    "execution": {
     "iopub.execute_input": "2024-02-08T14:41:08.726849Z",
     "iopub.status.busy": "2024-02-08T14:41:08.726610Z",
     "iopub.status.idle": "2024-02-08T14:41:08.798525Z",
     "shell.execute_reply": "2024-02-08T14:41:08.797470Z"
    },
    "papermill": {
     "duration": 0.086023,
     "end_time": "2024-02-08T14:41:08.800455",
     "exception": false,
     "start_time": "2024-02-08T14:41:08.714432",
     "status": "completed"
    },
    "tags": []
   },
   "outputs": [
    {
     "name": "stdout",
     "output_type": "stream",
     "text": [
      "Accuracy:  0.80\n"
     ]
    }
   ],
   "source": [
    "# test it when K is 3\n",
    "knn = train_and_evaluate_knn(X_train, y_train, X_test, y_test, n_neighbors=3)\n",
    "# save_model_predictions_to_csv(knn, test)"
   ]
  },
  {
   "cell_type": "code",
   "execution_count": 15,
   "id": "b5e57edf",
   "metadata": {
    "execution": {
     "iopub.execute_input": "2024-02-08T14:41:08.824198Z",
     "iopub.status.busy": "2024-02-08T14:41:08.823959Z",
     "iopub.status.idle": "2024-02-08T14:41:08.834768Z",
     "shell.execute_reply": "2024-02-08T14:41:08.833852Z"
    },
    "papermill": {
     "duration": 0.025437,
     "end_time": "2024-02-08T14:41:08.837645",
     "exception": false,
     "start_time": "2024-02-08T14:41:08.812208",
     "status": "completed"
    },
    "tags": []
   },
   "outputs": [
    {
     "name": "stdout",
     "output_type": "stream",
     "text": [
      "<class 'pandas.core.frame.DataFrame'>\n",
      "RangeIndex: 891 entries, 0 to 890\n",
      "Data columns (total 21 columns):\n",
      " #   Column           Non-Null Count  Dtype  \n",
      "---  ------           --------------  -----  \n",
      " 0   Survived         891 non-null    int64  \n",
      " 1   Age              891 non-null    float64\n",
      " 2   SibSp            891 non-null    int64  \n",
      " 3   Parch            891 non-null    int64  \n",
      " 4   Fare             891 non-null    float64\n",
      " 5   Pclass_1         891 non-null    int64  \n",
      " 6   Pclass_2         891 non-null    int64  \n",
      " 7   Pclass_3         891 non-null    int64  \n",
      " 8   Sex_female       891 non-null    int64  \n",
      " 9   Sex_male         891 non-null    int64  \n",
      " 10  Embarked_C       891 non-null    int64  \n",
      " 11  Embarked_Q       891 non-null    int64  \n",
      " 12  Embarked_S       891 non-null    int64  \n",
      " 13  Fare_Category_0  891 non-null    int64  \n",
      " 14  Fare_Category_1  891 non-null    int64  \n",
      " 15  Fare_Category_2  891 non-null    int64  \n",
      " 16  Fare_Category_3  891 non-null    int64  \n",
      " 17  Age_Category_0   891 non-null    int64  \n",
      " 18  Age_Category_1   891 non-null    int64  \n",
      " 19  Age_Category_2   891 non-null    int64  \n",
      " 20  Age_Category_3   891 non-null    int64  \n",
      "dtypes: float64(2), int64(19)\n",
      "memory usage: 146.3 KB\n"
     ]
    }
   ],
   "source": [
    "train.info()"
   ]
  },
  {
   "cell_type": "code",
   "execution_count": 16,
   "id": "af167e80",
   "metadata": {
    "execution": {
     "iopub.execute_input": "2024-02-08T14:41:08.862565Z",
     "iopub.status.busy": "2024-02-08T14:41:08.862285Z",
     "iopub.status.idle": "2024-02-08T14:41:10.501925Z",
     "shell.execute_reply": "2024-02-08T14:41:10.500572Z"
    },
    "papermill": {
     "duration": 1.654458,
     "end_time": "2024-02-08T14:41:10.504365",
     "exception": false,
     "start_time": "2024-02-08T14:41:08.849907",
     "status": "completed"
    },
    "tags": []
   },
   "outputs": [
    {
     "name": "stdout",
     "output_type": "stream",
     "text": [
      "The best value for 'k' is 16\n"
     ]
    }
   ],
   "source": [
    "#### implement K-fold cross-validation to choose the optimal K\n",
    "knn = KNeighborsClassifier()\n",
    "# define the parameter grid\n",
    "param_grid = {'n_neighbors': range(1, 31)}\n",
    "# use GridSearchCV\n",
    "grid_search = GridSearchCV(knn, param_grid, cv=5) # cv is the number of folds\n",
    "# fit the grid search to the data\n",
    "grid_search.fit(X_train, y_train)\n",
    "# get the best parameter\n",
    "best_k = grid_search.best_params_['n_neighbors']\n",
    "print(f\"The best value for 'k' is {best_k}\")"
   ]
  },
  {
   "cell_type": "code",
   "execution_count": 17,
   "id": "3e231a43",
   "metadata": {
    "execution": {
     "iopub.execute_input": "2024-02-08T14:41:10.530189Z",
     "iopub.status.busy": "2024-02-08T14:41:10.529899Z",
     "iopub.status.idle": "2024-02-08T14:41:10.559589Z",
     "shell.execute_reply": "2024-02-08T14:41:10.558699Z"
    },
    "papermill": {
     "duration": 0.044456,
     "end_time": "2024-02-08T14:41:10.561817",
     "exception": false,
     "start_time": "2024-02-08T14:41:10.517361",
     "status": "completed"
    },
    "tags": []
   },
   "outputs": [
    {
     "name": "stdout",
     "output_type": "stream",
     "text": [
      "Accuracy:  0.79\n"
     ]
    },
    {
     "data": {
      "text/html": [
       "<style>#sk-container-id-1 {color: black;background-color: white;}#sk-container-id-1 pre{padding: 0;}#sk-container-id-1 div.sk-toggleable {background-color: white;}#sk-container-id-1 label.sk-toggleable__label {cursor: pointer;display: block;width: 100%;margin-bottom: 0;padding: 0.3em;box-sizing: border-box;text-align: center;}#sk-container-id-1 label.sk-toggleable__label-arrow:before {content: \"▸\";float: left;margin-right: 0.25em;color: #696969;}#sk-container-id-1 label.sk-toggleable__label-arrow:hover:before {color: black;}#sk-container-id-1 div.sk-estimator:hover label.sk-toggleable__label-arrow:before {color: black;}#sk-container-id-1 div.sk-toggleable__content {max-height: 0;max-width: 0;overflow: hidden;text-align: left;background-color: #f0f8ff;}#sk-container-id-1 div.sk-toggleable__content pre {margin: 0.2em;color: black;border-radius: 0.25em;background-color: #f0f8ff;}#sk-container-id-1 input.sk-toggleable__control:checked~div.sk-toggleable__content {max-height: 200px;max-width: 100%;overflow: auto;}#sk-container-id-1 input.sk-toggleable__control:checked~label.sk-toggleable__label-arrow:before {content: \"▾\";}#sk-container-id-1 div.sk-estimator input.sk-toggleable__control:checked~label.sk-toggleable__label {background-color: #d4ebff;}#sk-container-id-1 div.sk-label input.sk-toggleable__control:checked~label.sk-toggleable__label {background-color: #d4ebff;}#sk-container-id-1 input.sk-hidden--visually {border: 0;clip: rect(1px 1px 1px 1px);clip: rect(1px, 1px, 1px, 1px);height: 1px;margin: -1px;overflow: hidden;padding: 0;position: absolute;width: 1px;}#sk-container-id-1 div.sk-estimator {font-family: monospace;background-color: #f0f8ff;border: 1px dotted black;border-radius: 0.25em;box-sizing: border-box;margin-bottom: 0.5em;}#sk-container-id-1 div.sk-estimator:hover {background-color: #d4ebff;}#sk-container-id-1 div.sk-parallel-item::after {content: \"\";width: 100%;border-bottom: 1px solid gray;flex-grow: 1;}#sk-container-id-1 div.sk-label:hover label.sk-toggleable__label {background-color: #d4ebff;}#sk-container-id-1 div.sk-serial::before {content: \"\";position: absolute;border-left: 1px solid gray;box-sizing: border-box;top: 0;bottom: 0;left: 50%;z-index: 0;}#sk-container-id-1 div.sk-serial {display: flex;flex-direction: column;align-items: center;background-color: white;padding-right: 0.2em;padding-left: 0.2em;position: relative;}#sk-container-id-1 div.sk-item {position: relative;z-index: 1;}#sk-container-id-1 div.sk-parallel {display: flex;align-items: stretch;justify-content: center;background-color: white;position: relative;}#sk-container-id-1 div.sk-item::before, #sk-container-id-1 div.sk-parallel-item::before {content: \"\";position: absolute;border-left: 1px solid gray;box-sizing: border-box;top: 0;bottom: 0;left: 50%;z-index: -1;}#sk-container-id-1 div.sk-parallel-item {display: flex;flex-direction: column;z-index: 1;position: relative;background-color: white;}#sk-container-id-1 div.sk-parallel-item:first-child::after {align-self: flex-end;width: 50%;}#sk-container-id-1 div.sk-parallel-item:last-child::after {align-self: flex-start;width: 50%;}#sk-container-id-1 div.sk-parallel-item:only-child::after {width: 0;}#sk-container-id-1 div.sk-dashed-wrapped {border: 1px dashed gray;margin: 0 0.4em 0.5em 0.4em;box-sizing: border-box;padding-bottom: 0.4em;background-color: white;}#sk-container-id-1 div.sk-label label {font-family: monospace;font-weight: bold;display: inline-block;line-height: 1.2em;}#sk-container-id-1 div.sk-label-container {text-align: center;}#sk-container-id-1 div.sk-container {/* jupyter's `normalize.less` sets `[hidden] { display: none; }` but bootstrap.min.css set `[hidden] { display: none !important; }` so we also need the `!important` here to be able to override the default hidden behavior on the sphinx rendered scikit-learn.org. See: https://github.com/scikit-learn/scikit-learn/issues/21755 */display: inline-block !important;position: relative;}#sk-container-id-1 div.sk-text-repr-fallback {display: none;}</style><div id=\"sk-container-id-1\" class=\"sk-top-container\"><div class=\"sk-text-repr-fallback\"><pre>KNeighborsClassifier(n_neighbors=4)</pre><b>In a Jupyter environment, please rerun this cell to show the HTML representation or trust the notebook. <br />On GitHub, the HTML representation is unable to render, please try loading this page with nbviewer.org.</b></div><div class=\"sk-container\" hidden><div class=\"sk-item\"><div class=\"sk-estimator sk-toggleable\"><input class=\"sk-toggleable__control sk-hidden--visually\" id=\"sk-estimator-id-1\" type=\"checkbox\" checked><label for=\"sk-estimator-id-1\" class=\"sk-toggleable__label sk-toggleable__label-arrow\">KNeighborsClassifier</label><div class=\"sk-toggleable__content\"><pre>KNeighborsClassifier(n_neighbors=4)</pre></div></div></div></div></div>"
      ],
      "text/plain": [
       "KNeighborsClassifier(n_neighbors=4)"
      ]
     },
     "execution_count": 17,
     "metadata": {},
     "output_type": "execute_result"
    }
   ],
   "source": [
    "# test it when K is 4\n",
    "train_and_evaluate_knn(X_train, y_train, X_test, y_test, n_neighbors=4)"
   ]
  },
  {
   "cell_type": "markdown",
   "id": "5a74a7f9",
   "metadata": {
    "papermill": {
     "duration": 0.011299,
     "end_time": "2024-02-08T14:41:10.585290",
     "exception": false,
     "start_time": "2024-02-08T14:41:10.573991",
     "status": "completed"
    },
    "tags": []
   },
   "source": [
    "> > ### Logistic regression: \n",
    "> > This is a statistical model that can model a binomial outcome with one or more explanatory variables. It is used extensively in many fields, including the medical and social sciences.  \n",
    "> \n",
    "> Pros:\n",
    "> 1. it can perform well when the dataset is linearly separable or when the boundary between classes can be approximated with a linear combination of features.\n",
    "> 2. logistic regression not only provides a classification but also gives the probabilities of the outcome, which can be a valuable insight.\n",
    "> 3. can be extended to multiclass classification problems.\n",
    "> 4. it is computationally less intensive.\n",
    "> \n",
    "> Cons:\n",
    "> 1. it assumes a linear relationship between the independent variables and log odds of the dependent variables.\n",
    "> 2. logistic regression can't capture complex relationships with non-linear boundaries as accurately as neural networks and decision trees.\n",
    "> 3. it is sensitive to outliers and may need scale the data."
   ]
  },
  {
   "cell_type": "code",
   "execution_count": 18,
   "id": "347581fa",
   "metadata": {
    "execution": {
     "iopub.execute_input": "2024-02-08T14:41:10.609953Z",
     "iopub.status.busy": "2024-02-08T14:41:10.609670Z",
     "iopub.status.idle": "2024-02-08T14:41:10.616732Z",
     "shell.execute_reply": "2024-02-08T14:41:10.615824Z"
    },
    "papermill": {
     "duration": 0.021445,
     "end_time": "2024-02-08T14:41:10.618532",
     "exception": false,
     "start_time": "2024-02-08T14:41:10.597087",
     "status": "completed"
    },
    "tags": []
   },
   "outputs": [],
   "source": [
    "def train_and_evaluate_logreg(X_train, y_train, X_test, y_test):\n",
    "    '''Train a logistic regression classifier and evaluate its accuracy.'''\n",
    "    \n",
    "    # initialize the logistic model\n",
    "    logreg = LogisticRegression()\n",
    "    # fit the model to the training data\n",
    "    logreg.fit(X_train, y_train)\n",
    "    # predict probabilities\n",
    "    y_pred = logreg.predict(X_test)\n",
    "    # calculate the accuracy of the model\n",
    "    accuracy = accuracy_score(y_test, y_pred)\n",
    "\n",
    "    # evaluate accuracy\n",
    "    print('#' * 50)\n",
    "    print(f\"Accuracy:\\n {accuracy: .2f}\")\n",
    "\n",
    "    # evaluate classification report\n",
    "    print('#' * 50)\n",
    "    print(f\"classification report:\\n {classification_report(y_test, y_pred)}\")\n",
    "    \n",
    "    # access the model's coefficients and intercept\n",
    "    coefficients = logreg.coef_\n",
    "    intercept = logreg.intercept_\n",
    "    # matching the coefficients to the feature names\n",
    "    feature_importance = pd.DataFrame(data=coefficients.T, index=X.columns, columns=['Coefficient'])\n",
    "    print('#' * 50)\n",
    "    print(f\"feature importance:\\n {feature_importance}\")\n",
    "    \n",
    "    return logreg"
   ]
  },
  {
   "cell_type": "code",
   "execution_count": 19,
   "id": "c236a516",
   "metadata": {
    "execution": {
     "iopub.execute_input": "2024-02-08T14:41:10.642978Z",
     "iopub.status.busy": "2024-02-08T14:41:10.642704Z",
     "iopub.status.idle": "2024-02-08T14:41:10.686255Z",
     "shell.execute_reply": "2024-02-08T14:41:10.684281Z"
    },
    "papermill": {
     "duration": 0.058502,
     "end_time": "2024-02-08T14:41:10.688735",
     "exception": false,
     "start_time": "2024-02-08T14:41:10.630233",
     "status": "completed"
    },
    "tags": []
   },
   "outputs": [
    {
     "name": "stdout",
     "output_type": "stream",
     "text": [
      "##################################################\n",
      "Accuracy:\n",
      "  0.81\n",
      "##################################################\n",
      "classification report:\n",
      "               precision    recall  f1-score   support\n",
      "\n",
      "           0       0.82      0.86      0.84       157\n",
      "           1       0.79      0.73      0.76       111\n",
      "\n",
      "    accuracy                           0.81       268\n",
      "   macro avg       0.80      0.79      0.80       268\n",
      "weighted avg       0.81      0.81      0.80       268\n",
      "\n",
      "##################################################\n",
      "feature importance:\n",
      "                  Coefficient\n",
      "Age                -0.207214\n",
      "SibSp              -0.602374\n",
      "Parch              -0.214519\n",
      "Fare                0.269437\n",
      "Pclass_1            0.169273\n",
      "Pclass_2            0.220714\n",
      "Pclass_3           -0.324084\n",
      "Sex_female          0.661324\n",
      "Sex_male           -0.661324\n",
      "Embarked_C          0.135689\n",
      "Embarked_Q          0.051466\n",
      "Embarked_S         -0.150344\n",
      "Fare_Category_0    -0.130753\n",
      "Fare_Category_1    -0.067104\n",
      "Fare_Category_2     0.325071\n",
      "Fare_Category_3    -0.045573\n",
      "Age_Category_0      0.439403\n",
      "Age_Category_1     -0.230712\n",
      "Age_Category_2     -0.135183\n",
      "Age_Category_3      0.025696\n"
     ]
    }
   ],
   "source": [
    "logreg = train_and_evaluate_logreg(X_train, y_train, X_test, y_test)\n",
    "# save_model_predictions_to_csv(logreg, test, scaler)"
   ]
  },
  {
   "cell_type": "markdown",
   "id": "8fc05c29",
   "metadata": {
    "papermill": {
     "duration": 0.025528,
     "end_time": "2024-02-08T14:41:10.736861",
     "exception": false,
     "start_time": "2024-02-08T14:41:10.711333",
     "status": "completed"
    },
    "tags": []
   },
   "source": [
    "> > ### Random Forest: \n",
    "> > This is an ensemble machine learning algorithm that combines multiple decision trees to create a more accurate and robust model. It's particularly well-suited for classification and regression tasks and works well with both categorical and continuous data.\n",
    "> \n",
    "> Pros: \n",
    "> 1. it can be used for both classification and regression tasks and has the ability to handle large datasets with higher dimensionality.\n",
    "> 2. it can capture nonlinearity in the data by combining the results from various trees.\n",
    "> 3. due to the averaging of multiple trees, it is quite robust to noisein the input data.\n",
    "> \n",
    "> Cons:\n",
    "> 1. Random Forest models are not easily interpretable.\n",
    "> 2. it can be computationly intensive and slow to train.\n",
    "> 3. it's not ideal for linear problems."
   ]
  },
  {
   "cell_type": "code",
   "execution_count": 20,
   "id": "bbc45e61",
   "metadata": {
    "execution": {
     "iopub.execute_input": "2024-02-08T14:41:10.789409Z",
     "iopub.status.busy": "2024-02-08T14:41:10.788858Z",
     "iopub.status.idle": "2024-02-08T14:41:10.797292Z",
     "shell.execute_reply": "2024-02-08T14:41:10.796584Z"
    },
    "papermill": {
     "duration": 0.037272,
     "end_time": "2024-02-08T14:41:10.799059",
     "exception": false,
     "start_time": "2024-02-08T14:41:10.761787",
     "status": "completed"
    },
    "tags": []
   },
   "outputs": [],
   "source": [
    "def train_and_evaluate_rf(X_train, y_train, X_test, y_test):\n",
    "    '''Train a random forest classifier and evaluate its accuracy.'''\n",
    "    \n",
    "    # initialize the Random Forest model\n",
    "    rf = RandomForestClassifier(n_estimators=100, random_state=42)\n",
    "    # fit the model to the training data\n",
    "    rf.fit(X_train, y_train)\n",
    "    # predict class\n",
    "    y_pred = rf.predict(X_test)\n",
    "\n",
    "    # evaluate accuracy\n",
    "    print(f\"Accuracy:\\n {accuracy_score(y_test, y_pred)}\")\n",
    "    # detailed classification report\n",
    "    print(f\"classification report:\\n {classification_report(y_test, y_pred)}\")\n",
    "    \n",
    "    return rf"
   ]
  },
  {
   "cell_type": "code",
   "execution_count": 21,
   "id": "b4c71a69",
   "metadata": {
    "execution": {
     "iopub.execute_input": "2024-02-08T14:41:10.824628Z",
     "iopub.status.busy": "2024-02-08T14:41:10.823990Z",
     "iopub.status.idle": "2024-02-08T14:41:11.087246Z",
     "shell.execute_reply": "2024-02-08T14:41:11.086282Z"
    },
    "papermill": {
     "duration": 0.278683,
     "end_time": "2024-02-08T14:41:11.089652",
     "exception": false,
     "start_time": "2024-02-08T14:41:10.810969",
     "status": "completed"
    },
    "tags": []
   },
   "outputs": [
    {
     "name": "stdout",
     "output_type": "stream",
     "text": [
      "Accuracy:\n",
      " 0.7985074626865671\n",
      "classification report:\n",
      "               precision    recall  f1-score   support\n",
      "\n",
      "           0       0.82      0.85      0.83       157\n",
      "           1       0.77      0.73      0.75       111\n",
      "\n",
      "    accuracy                           0.80       268\n",
      "   macro avg       0.79      0.79      0.79       268\n",
      "weighted avg       0.80      0.80      0.80       268\n",
      "\n"
     ]
    }
   ],
   "source": [
    "rf = train_and_evaluate_rf(X_train, y_train, X_test, y_test)\n",
    "# save_model_predictions_to_csv(rf, test)"
   ]
  },
  {
   "cell_type": "markdown",
   "id": "9dc52aa1",
   "metadata": {
    "papermill": {
     "duration": 0.011871,
     "end_time": "2024-02-08T14:41:11.114727",
     "exception": false,
     "start_time": "2024-02-08T14:41:11.102856",
     "status": "completed"
    },
    "tags": []
   },
   "source": [
    "> > ### Deep Learning:\n",
    "> > \n",
    "> > Deep learning is a subset of machine learning that utilizes artificial neural networks with multiple layers—hence the term \"deep\"—to model and understand complex patterns in data. It is known for its effectiveness in tasks that deal with unstructured data like images, text, and audio.\n",
    "> \n",
    "> Pros:\n",
    "> 1. Flexibility in handling unstructured data:** Deep learning models excel at processing data with high dimensionality and complexity, such as images, sound waves, and text.\n",
    "> 2. High accuracy: They can achieve high levels of accuracy in various applications, including image recognition, natural language processing, and speech recognition, given enough data.\n",
    "> 3. Automatic feature extraction: These models can automatically learn the representations needed for feature detection or classification, eliminating the need for manual feature engineering.\n",
    "> \n",
    "> Cons:\n",
    "> 1. Large data requirement: Deep learning models typically require vast amounts of labeled data to train effectively.\n",
    "> 2. Computational intensity: The training process for deep learning models is resource-intensive, often necessitating the use of GPUs or even distributed computing environments.\n",
    "> 3. Opacity: Often considered as \"black boxes,\" deep learning models can be challenging to interpret, making it hard to understand the exact reasons behind their decisions or predictions."
   ]
  },
  {
   "cell_type": "code",
   "execution_count": 22,
   "id": "9d568d24",
   "metadata": {
    "execution": {
     "iopub.execute_input": "2024-02-08T14:41:11.140529Z",
     "iopub.status.busy": "2024-02-08T14:41:11.140246Z",
     "iopub.status.idle": "2024-02-08T14:41:11.212558Z",
     "shell.execute_reply": "2024-02-08T14:41:11.211604Z"
    },
    "papermill": {
     "duration": 0.087372,
     "end_time": "2024-02-08T14:41:11.214501",
     "exception": false,
     "start_time": "2024-02-08T14:41:11.127129",
     "status": "completed"
    },
    "tags": []
   },
   "outputs": [
    {
     "name": "stdout",
     "output_type": "stream",
     "text": [
      "Feature batch shape: torch.Size([64, 20])\n",
      "Labels batch shape: torch.Size([64])\n"
     ]
    }
   ],
   "source": [
    "#### create a custom dataset class that inherits torch.utils.data.Dataset\n",
    "# create TabularDataset class in order to use DataLoader\n",
    "class TabularDataset(Dataset):\n",
    "    def __init__(self, features, labels):\n",
    "        self.features = torch.tensor(features, dtype=torch.float32)\n",
    "        self.labels = torch.tensor(labels.values, dtype=torch.float32)\n",
    "\n",
    "    def __len__(self):\n",
    "        return len(self.features)\n",
    "    \n",
    "    def __getitem__(self, index):\n",
    "        return self.features[index], self.labels[index]\n",
    "\n",
    "# create PyTorch Dataset objects\n",
    "train_dataset = TabularDataset(X_train, y_train)\n",
    "test_dataset = TabularDataset(X_test, y_test)\n",
    "\n",
    "# create DataLoaders\n",
    "# in each epoch, the train process iterate each bach until all samples are calculated\n",
    "train_loader = DataLoader(dataset=train_dataset, batch_size=64, shuffle=True)\n",
    "test_loader = DataLoader(dataset=test_dataset, batch_size=64, shuffle=False)\n",
    "\n",
    "# create an iterator over the dataset\n",
    "train_iter = iter(train_loader)\n",
    "# get the next batch\n",
    "features, labels = next(train_iter)\n",
    "# print the shapes\n",
    "print(f'Feature batch shape: {features.size()}')\n",
    "print(f'Labels batch shape: {labels.size()}')"
   ]
  },
  {
   "cell_type": "code",
   "execution_count": 23,
   "id": "71832ff6",
   "metadata": {
    "execution": {
     "iopub.execute_input": "2024-02-08T14:41:11.239474Z",
     "iopub.status.busy": "2024-02-08T14:41:11.239210Z",
     "iopub.status.idle": "2024-02-08T14:41:11.246273Z",
     "shell.execute_reply": "2024-02-08T14:41:11.245492Z"
    },
    "papermill": {
     "duration": 0.021604,
     "end_time": "2024-02-08T14:41:11.248051",
     "exception": false,
     "start_time": "2024-02-08T14:41:11.226447",
     "status": "completed"
    },
    "tags": []
   },
   "outputs": [],
   "source": [
    "#### define the model\n",
    "class ClassificationModel(nn.Module):\n",
    "    def __init__(self, num_features, num_classes=1):  # default num_classes to 1 for binary classification\n",
    "        super().__init__()\n",
    "        self.sequential1 = nn.Sequential(\n",
    "            nn.Linear(num_features, 64),\n",
    "            nn.ReLU()\n",
    "        )\n",
    "        self.sequential2 = nn.Sequential(\n",
    "            nn.Linear(64, 48),\n",
    "            nn.ReLU()\n",
    "        )\n",
    "        self.sequential3 = nn.Sequential(\n",
    "            nn.Linear(48, 32),\n",
    "            nn.ReLU()\n",
    "        )\n",
    "        self.output_layer = nn.Linear(32, num_classes) \n",
    "\n",
    "    def forward(self, x):\n",
    "        x = self.sequential1(x)\n",
    "        x = self.sequential2(x)\n",
    "        x = self.sequential3(x)\n",
    "        x = torch.sigmoid(self.output_layer(x))  # using sigmoid for binary classification\n",
    "        return x"
   ]
  },
  {
   "cell_type": "code",
   "execution_count": 24,
   "id": "d66f792e",
   "metadata": {
    "execution": {
     "iopub.execute_input": "2024-02-08T14:41:11.272697Z",
     "iopub.status.busy": "2024-02-08T14:41:11.272427Z",
     "iopub.status.idle": "2024-02-08T14:41:11.281482Z",
     "shell.execute_reply": "2024-02-08T14:41:11.280833Z"
    },
    "papermill": {
     "duration": 0.023518,
     "end_time": "2024-02-08T14:41:11.283330",
     "exception": false,
     "start_time": "2024-02-08T14:41:11.259812",
     "status": "completed"
    },
    "tags": []
   },
   "outputs": [],
   "source": [
    "#### define the model 2\n",
    "class ClassificationModel_2(nn.Module):\n",
    "    def __init__(self, num_features, num_classes=1, dropout_rate=0.5):\n",
    "        super().__init__()\n",
    "        self.layer1 = nn.Linear(num_features, 64)\n",
    "        self.batch_norm1 = nn.BatchNorm1d(64)\n",
    "        self.dropout1 = nn.Dropout(dropout_rate)\n",
    "        \n",
    "        self.layer2 = nn.Linear(64, 48)\n",
    "        self.batch_norm2 = nn.BatchNorm1d(48)\n",
    "        self.dropout2 = nn.Dropout(dropout_rate)\n",
    "        \n",
    "        self.layer3 = nn.Linear(48, 32)\n",
    "        self.batch_norm3 = nn.BatchNorm1d(32)\n",
    "        self.dropout3 = nn.Dropout(dropout_rate)\n",
    "        \n",
    "        self.output_layer = nn.Linear(32, num_classes)\n",
    "        \n",
    "    def forward(self, x):\n",
    "        x = F.relu(self.batch_norm1(self.layer1(x)))\n",
    "        x = self.dropout1(x)\n",
    "        \n",
    "        x = F.relu(self.batch_norm2(self.layer2(x)))\n",
    "        x = self.dropout2(x)\n",
    "        \n",
    "        x = F.relu(self.batch_norm3(self.layer3(x)))\n",
    "        x = self.dropout3(x)\n",
    "        \n",
    "        x = torch.sigmoid(self.output_layer(x))  # still using sigmoid for binary classification\n",
    "        return x"
   ]
  },
  {
   "cell_type": "code",
   "execution_count": 25,
   "id": "210349fd",
   "metadata": {
    "execution": {
     "iopub.execute_input": "2024-02-08T14:41:11.307811Z",
     "iopub.status.busy": "2024-02-08T14:41:11.307509Z",
     "iopub.status.idle": "2024-02-08T14:41:58.384258Z",
     "shell.execute_reply": "2024-02-08T14:41:58.383214Z"
    },
    "papermill": {
     "duration": 47.091098,
     "end_time": "2024-02-08T14:41:58.386257",
     "exception": false,
     "start_time": "2024-02-08T14:41:11.295159",
     "status": "completed"
    },
    "tags": []
   },
   "outputs": [
    {
     "name": "stdout",
     "output_type": "stream",
     "text": [
      "Epoch 1/1500, Loss: 0.7791934192180634\n",
      "Epoch 101/1500, Loss: 0.6187424480915069\n",
      "Epoch 201/1500, Loss: 0.6156799912452697\n",
      "Epoch 301/1500, Loss: 0.6158924221992492\n",
      "Epoch 401/1500, Loss: 0.6168446063995361\n",
      "Epoch 501/1500, Loss: 0.6117277443408966\n",
      "Epoch 601/1500, Loss: 0.6105581998825074\n",
      "Epoch 701/1500, Loss: 0.6119938492774963\n",
      "Epoch 801/1500, Loss: 0.6130316197872162\n",
      "Epoch 901/1500, Loss: 0.6092469573020936\n",
      "Epoch 1001/1500, Loss: 0.6091087996959687\n",
      "Epoch 1101/1500, Loss: 0.6116854250431061\n",
      "Epoch 1201/1500, Loss: 0.6095544874668122\n",
      "Epoch 1301/1500, Loss: 0.6079521656036377\n",
      "Epoch 1401/1500, Loss: 0.6097125351428986\n",
      "Accuracy of the model on the test data: 82.46%\n"
     ]
    }
   ],
   "source": [
    "# create an instance of the ClassificationModel with the number of features from training data\n",
    "model = ClassificationModel_2(num_features=X_train.shape[1])\n",
    "\n",
    "# use BCEWithLogitsLoss which combines a sigmoid layer and the BCELoss in one single class\n",
    "criterion = nn.BCEWithLogitsLoss()\n",
    "# initialize the optimizer with the Adam algorithm and a learning rate of 0.001\n",
    "optimizer = torch.optim.Adam(model.parameters(), lr=0.001)\n",
    "\n",
    "# set the device to cuda if available, otherwise use cpu\n",
    "device = torch.device('cuda' if torch.cuda.is_available() else 'cpu')\n",
    "# transfer the model to the chosen device\n",
    "model.to(device)\n",
    "\n",
    "# set the number of epochs for training\n",
    "num_epochs = 1500\n",
    "\n",
    "# start the training loop\n",
    "for epoch in range(num_epochs):\n",
    "    # set the model to training mode\n",
    "    model.train()\n",
    "    # initialize the total loss variable\n",
    "    total_loss = 0\n",
    "\n",
    "    # iterate over batches of data from the train_loader\n",
    "    for inputs, labels in train_loader:\n",
    "        # transfer inputs and labels to the device\n",
    "        inputs, labels = inputs.to(device), labels.to(device)\n",
    "        # reset the gradients of the model parameters\n",
    "        optimizer.zero_grad()\n",
    "        # forward pass: compute the model outputs\n",
    "        outputs = model(inputs)\n",
    "        # calculate the loss between outputs and labels\n",
    "        loss = criterion(outputs, labels.unsqueeze(1))\n",
    "        # backward pass: compute the gradient of the loss with respect to model parameters\n",
    "        loss.backward()\n",
    "        # add the current loss to the total loss\n",
    "        total_loss += loss.item()\n",
    "        # update the model parameters\n",
    "        optimizer.step()\n",
    "    \n",
    "    # print the loss every 100 epochs\n",
    "    if epoch % 100 == 0:\n",
    "        print(f\"Epoch {epoch+1}/{num_epochs}, Loss: {total_loss/len(train_loader)}\")\n",
    "\n",
    "# switch off gradients for validation, saves memory and computations\n",
    "with torch.no_grad():\n",
    "    # set the model to evaluation mode\n",
    "    model.eval()\n",
    "    # initialize correct prediction count\n",
    "    correct = 0\n",
    "    # initialize total prediction count\n",
    "    total = 0\n",
    "\n",
    "    # iterate over batches of data from the test_loader\n",
    "    for inputs, labels in test_loader:\n",
    "        # transfer inputs and labels to the device\n",
    "        inputs, labels = inputs.to(device), labels.to(device)\n",
    "        # forward pass: compute the model outputs\n",
    "        outputs = model(inputs)\n",
    "        # convert outputs probabilities to predicted class (0 or 1)\n",
    "        predicted = outputs.round()\n",
    "        # count the total number of labels\n",
    "        total += labels.size(0)\n",
    "        # count the number of correct predictions\n",
    "        correct += (predicted == labels.unsqueeze(1)).sum().item()\n",
    "\n",
    "# calculate the accuracy of predictions\n",
    "accuracy = (correct / total) * 100\n",
    "# print the accuracy of the model on the test data\n",
    "print(f'Accuracy of the model on the test data: {accuracy:.2f}%')"
   ]
  },
  {
   "cell_type": "code",
   "execution_count": 26,
   "id": "f0f6ade2",
   "metadata": {
    "execution": {
     "iopub.execute_input": "2024-02-08T14:41:58.414314Z",
     "iopub.status.busy": "2024-02-08T14:41:58.413867Z",
     "iopub.status.idle": "2024-02-08T14:41:58.420904Z",
     "shell.execute_reply": "2024-02-08T14:41:58.420036Z"
    },
    "papermill": {
     "duration": 0.023135,
     "end_time": "2024-02-08T14:41:58.422805",
     "exception": false,
     "start_time": "2024-02-08T14:41:58.399670",
     "status": "completed"
    },
    "tags": []
   },
   "outputs": [],
   "source": [
    "def save_model_predictions_to_csv(model, test_dataset, scaler, output_filename='submission.csv'):\n",
    "    \n",
    "    try:\n",
    "        # save the 'PassengerId' column\n",
    "        PassengerId = test_dataset['PassengerId']\n",
    "        # clean the dataset\n",
    "        test_dataset = data_cleaning(test_dataset)\n",
    "        test_dataset = scaler.transform(test_dataset)\n",
    "        # make predictions using the provided model\n",
    "        y_pred = model(torch.tensor(test_dataset, dtype=torch.float32).to(device))\n",
    "        # create a DataFrame with 'PassengerId' and the predictions\n",
    "        submission_df = pd.DataFrame({\n",
    "            'PassengerId': PassengerId,\n",
    "            'Survived': y_pred\n",
    "        })\n",
    "\n",
    "        # save the DataFrame to a CSV file\n",
    "        submission_df.to_csv(output_filename, index=False)\n",
    "        print(f\"Your submission was successfully saved to {output_filename}!\")\n",
    "        \n",
    "    except Exception as e:\n",
    "        # handle any exceptions that might occur\n",
    "        print(\"An error occurred while saving the submission:\")\n",
    "        print(e)"
   ]
  },
  {
   "cell_type": "code",
   "execution_count": 27,
   "id": "603f6623",
   "metadata": {
    "execution": {
     "iopub.execute_input": "2024-02-08T14:41:58.450772Z",
     "iopub.status.busy": "2024-02-08T14:41:58.450340Z",
     "iopub.status.idle": "2024-02-08T14:41:58.483221Z",
     "shell.execute_reply": "2024-02-08T14:41:58.482115Z"
    },
    "papermill": {
     "duration": 0.04907,
     "end_time": "2024-02-08T14:41:58.485182",
     "exception": false,
     "start_time": "2024-02-08T14:41:58.436112",
     "status": "completed"
    },
    "tags": []
   },
   "outputs": [
    {
     "name": "stdout",
     "output_type": "stream",
     "text": [
      "An error occurred while saving the submission:\n",
      "can't convert cuda:0 device type tensor to numpy. Use Tensor.cpu() to copy the tensor to host memory first.\n"
     ]
    }
   ],
   "source": [
    "save_model_predictions_to_csv(model, test, scaler)"
   ]
  },
  {
   "cell_type": "code",
   "execution_count": null,
   "id": "8dafe2b3",
   "metadata": {
    "papermill": {
     "duration": 0.012964,
     "end_time": "2024-02-08T14:41:58.511568",
     "exception": false,
     "start_time": "2024-02-08T14:41:58.498604",
     "status": "completed"
    },
    "tags": []
   },
   "outputs": [],
   "source": []
  }
 ],
 "metadata": {
  "kaggle": {
   "accelerator": "gpu",
   "dataSources": [
    {
     "databundleVersionId": 26502,
     "sourceId": 3136,
     "sourceType": "competition"
    }
   ],
   "dockerImageVersionId": 30646,
   "isGpuEnabled": true,
   "isInternetEnabled": true,
   "language": "python",
   "sourceType": "notebook"
  },
  "kernelspec": {
   "display_name": "Python 3",
   "language": "python",
   "name": "python3"
  },
  "language_info": {
   "codemirror_mode": {
    "name": "ipython",
    "version": 3
   },
   "file_extension": ".py",
   "mimetype": "text/x-python",
   "name": "python",
   "nbconvert_exporter": "python",
   "pygments_lexer": "ipython3",
   "version": "3.10.13"
  },
  "papermill": {
   "default_parameters": {},
   "duration": 60.955919,
   "end_time": "2024-02-08T14:42:00.148281",
   "environment_variables": {},
   "exception": null,
   "input_path": "__notebook__.ipynb",
   "output_path": "__notebook__.ipynb",
   "parameters": {},
   "start_time": "2024-02-08T14:40:59.192362",
   "version": "2.5.0"
  }
 },
 "nbformat": 4,
 "nbformat_minor": 5
}
