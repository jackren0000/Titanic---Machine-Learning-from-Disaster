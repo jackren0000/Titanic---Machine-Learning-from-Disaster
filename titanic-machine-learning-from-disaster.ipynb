{
 "cells": [
  {
   "cell_type": "markdown",
   "id": "792a1d31",
   "metadata": {
    "papermill": {
     "duration": 0.008113,
     "end_time": "2024-02-01T14:45:16.364240",
     "exception": false,
     "start_time": "2024-02-01T14:45:16.356127",
     "status": "completed"
    },
    "tags": []
   },
   "source": [
    "## **Data Analysis**"
   ]
  },
  {
   "cell_type": "markdown",
   "id": "1b0580ea",
   "metadata": {
    "papermill": {
     "duration": 0.007012,
     "end_time": "2024-02-01T14:45:16.379280",
     "exception": false,
     "start_time": "2024-02-01T14:45:16.372268",
     "status": "completed"
    },
    "tags": []
   },
   "source": [
    "### Define the objective:\n",
    "*The goal of this data analysis is to find relevance and patterns of the dataset, using statistical method and data visualization to show a clear relationship between different features within the dataset.*"
   ]
  },
  {
   "cell_type": "code",
   "execution_count": 1,
   "id": "e1879a9f",
   "metadata": {
    "_cell_guid": "b1076dfc-b9ad-4769-8c92-a6c4dae69d19",
    "_uuid": "8f2839f25d086af736a60e9eeb907d3b93b6e0e5",
    "execution": {
     "iopub.execute_input": "2024-02-01T14:45:16.396116Z",
     "iopub.status.busy": "2024-02-01T14:45:16.395406Z",
     "iopub.status.idle": "2024-02-01T14:45:18.732990Z",
     "shell.execute_reply": "2024-02-01T14:45:18.731837Z"
    },
    "papermill": {
     "duration": 2.349132,
     "end_time": "2024-02-01T14:45:18.735802",
     "exception": false,
     "start_time": "2024-02-01T14:45:16.386670",
     "status": "completed"
    },
    "tags": []
   },
   "outputs": [],
   "source": [
    "#### import libraries\n",
    "import numpy as np\n",
    "import pandas as pd\n",
    "import os\n",
    "import matplotlib.pyplot as plt\n",
    "\n",
    "# import KNN from scikit-learn library (especially for ML)\n",
    "from sklearn.neighbors import KNeighborsClassifier\n",
    "# import logistic regression model\n",
    "from sklearn.linear_model import LogisticRegression\n",
    "# import random forest model\n",
    "from sklearn.ensemble import RandomForestClassifier\n",
    "# import data split method \n",
    "from sklearn.model_selection import train_test_split\n",
    "# import K-fold cross-validation method\n",
    "from sklearn.model_selection import GridSearchCV\n",
    "# import evaluation method\n",
    "from sklearn.metrics import accuracy_score, classification_report\n",
    "# normalize the data\n",
    "from sklearn.preprocessing import StandardScaler, MinMaxScaler"
   ]
  },
  {
   "cell_type": "markdown",
   "id": "73573458",
   "metadata": {
    "papermill": {
     "duration": 0.007405,
     "end_time": "2024-02-01T14:45:18.750648",
     "exception": false,
     "start_time": "2024-02-01T14:45:18.743243",
     "status": "completed"
    },
    "tags": []
   },
   "source": [
    "### Data Collection:\n",
    "*Collect the relevant data from competition website, then convert it into pandas DataFrame.*"
   ]
  },
  {
   "cell_type": "code",
   "execution_count": 2,
   "id": "52f4cabb",
   "metadata": {
    "execution": {
     "iopub.execute_input": "2024-02-01T14:45:18.767820Z",
     "iopub.status.busy": "2024-02-01T14:45:18.767273Z",
     "iopub.status.idle": "2024-02-01T14:45:18.794520Z",
     "shell.execute_reply": "2024-02-01T14:45:18.793594Z"
    },
    "papermill": {
     "duration": 0.038803,
     "end_time": "2024-02-01T14:45:18.796989",
     "exception": false,
     "start_time": "2024-02-01T14:45:18.758186",
     "status": "completed"
    },
    "tags": []
   },
   "outputs": [],
   "source": [
    "#### load the data\n",
    "DIR_PATH = '/kaggle/input/titanic'\n",
    "train = pd.read_csv(os.path.join(DIR_PATH, 'train.csv'))"
   ]
  },
  {
   "cell_type": "markdown",
   "id": "6ae24ca7",
   "metadata": {
    "papermill": {
     "duration": 0.007148,
     "end_time": "2024-02-01T14:45:18.811350",
     "exception": false,
     "start_time": "2024-02-01T14:45:18.804202",
     "status": "completed"
    },
    "tags": []
   },
   "source": [
    "### Data Clearning:\n",
    "*Clean the unhelpful columns and NaN value.*"
   ]
  },
  {
   "cell_type": "code",
   "execution_count": 3,
   "id": "82ac0d91",
   "metadata": {
    "execution": {
     "iopub.execute_input": "2024-02-01T14:45:18.827846Z",
     "iopub.status.busy": "2024-02-01T14:45:18.826833Z",
     "iopub.status.idle": "2024-02-01T14:45:18.847628Z",
     "shell.execute_reply": "2024-02-01T14:45:18.846745Z"
    },
    "papermill": {
     "duration": 0.031165,
     "end_time": "2024-02-01T14:45:18.849721",
     "exception": false,
     "start_time": "2024-02-01T14:45:18.818556",
     "status": "completed"
    },
    "tags": []
   },
   "outputs": [
    {
     "data": {
      "text/html": [
       "<div>\n",
       "<style scoped>\n",
       "    .dataframe tbody tr th:only-of-type {\n",
       "        vertical-align: middle;\n",
       "    }\n",
       "\n",
       "    .dataframe tbody tr th {\n",
       "        vertical-align: top;\n",
       "    }\n",
       "\n",
       "    .dataframe thead th {\n",
       "        text-align: right;\n",
       "    }\n",
       "</style>\n",
       "<table border=\"1\" class=\"dataframe\">\n",
       "  <thead>\n",
       "    <tr style=\"text-align: right;\">\n",
       "      <th></th>\n",
       "      <th>PassengerId</th>\n",
       "      <th>Survived</th>\n",
       "      <th>Pclass</th>\n",
       "      <th>Name</th>\n",
       "      <th>Sex</th>\n",
       "      <th>Age</th>\n",
       "      <th>SibSp</th>\n",
       "      <th>Parch</th>\n",
       "      <th>Ticket</th>\n",
       "      <th>Fare</th>\n",
       "      <th>Cabin</th>\n",
       "      <th>Embarked</th>\n",
       "    </tr>\n",
       "  </thead>\n",
       "  <tbody>\n",
       "    <tr>\n",
       "      <th>0</th>\n",
       "      <td>1</td>\n",
       "      <td>0</td>\n",
       "      <td>3</td>\n",
       "      <td>Braund, Mr. Owen Harris</td>\n",
       "      <td>male</td>\n",
       "      <td>22.0</td>\n",
       "      <td>1</td>\n",
       "      <td>0</td>\n",
       "      <td>A/5 21171</td>\n",
       "      <td>7.2500</td>\n",
       "      <td>NaN</td>\n",
       "      <td>S</td>\n",
       "    </tr>\n",
       "    <tr>\n",
       "      <th>1</th>\n",
       "      <td>2</td>\n",
       "      <td>1</td>\n",
       "      <td>1</td>\n",
       "      <td>Cumings, Mrs. John Bradley (Florence Briggs Th...</td>\n",
       "      <td>female</td>\n",
       "      <td>38.0</td>\n",
       "      <td>1</td>\n",
       "      <td>0</td>\n",
       "      <td>PC 17599</td>\n",
       "      <td>71.2833</td>\n",
       "      <td>C85</td>\n",
       "      <td>C</td>\n",
       "    </tr>\n",
       "    <tr>\n",
       "      <th>2</th>\n",
       "      <td>3</td>\n",
       "      <td>1</td>\n",
       "      <td>3</td>\n",
       "      <td>Heikkinen, Miss. Laina</td>\n",
       "      <td>female</td>\n",
       "      <td>26.0</td>\n",
       "      <td>0</td>\n",
       "      <td>0</td>\n",
       "      <td>STON/O2. 3101282</td>\n",
       "      <td>7.9250</td>\n",
       "      <td>NaN</td>\n",
       "      <td>S</td>\n",
       "    </tr>\n",
       "    <tr>\n",
       "      <th>3</th>\n",
       "      <td>4</td>\n",
       "      <td>1</td>\n",
       "      <td>1</td>\n",
       "      <td>Futrelle, Mrs. Jacques Heath (Lily May Peel)</td>\n",
       "      <td>female</td>\n",
       "      <td>35.0</td>\n",
       "      <td>1</td>\n",
       "      <td>0</td>\n",
       "      <td>113803</td>\n",
       "      <td>53.1000</td>\n",
       "      <td>C123</td>\n",
       "      <td>S</td>\n",
       "    </tr>\n",
       "    <tr>\n",
       "      <th>4</th>\n",
       "      <td>5</td>\n",
       "      <td>0</td>\n",
       "      <td>3</td>\n",
       "      <td>Allen, Mr. William Henry</td>\n",
       "      <td>male</td>\n",
       "      <td>35.0</td>\n",
       "      <td>0</td>\n",
       "      <td>0</td>\n",
       "      <td>373450</td>\n",
       "      <td>8.0500</td>\n",
       "      <td>NaN</td>\n",
       "      <td>S</td>\n",
       "    </tr>\n",
       "  </tbody>\n",
       "</table>\n",
       "</div>"
      ],
      "text/plain": [
       "   PassengerId  Survived  Pclass  \\\n",
       "0            1         0       3   \n",
       "1            2         1       1   \n",
       "2            3         1       3   \n",
       "3            4         1       1   \n",
       "4            5         0       3   \n",
       "\n",
       "                                                Name     Sex   Age  SibSp  \\\n",
       "0                            Braund, Mr. Owen Harris    male  22.0      1   \n",
       "1  Cumings, Mrs. John Bradley (Florence Briggs Th...  female  38.0      1   \n",
       "2                             Heikkinen, Miss. Laina  female  26.0      0   \n",
       "3       Futrelle, Mrs. Jacques Heath (Lily May Peel)  female  35.0      1   \n",
       "4                           Allen, Mr. William Henry    male  35.0      0   \n",
       "\n",
       "   Parch            Ticket     Fare Cabin Embarked  \n",
       "0      0         A/5 21171   7.2500   NaN        S  \n",
       "1      0          PC 17599  71.2833   C85        C  \n",
       "2      0  STON/O2. 3101282   7.9250   NaN        S  \n",
       "3      0            113803  53.1000  C123        S  \n",
       "4      0            373450   8.0500   NaN        S  "
      ]
     },
     "execution_count": 3,
     "metadata": {},
     "output_type": "execute_result"
    }
   ],
   "source": [
    "train.head()"
   ]
  },
  {
   "cell_type": "code",
   "execution_count": 4,
   "id": "38157779",
   "metadata": {
    "execution": {
     "iopub.execute_input": "2024-02-01T14:45:18.866228Z",
     "iopub.status.busy": "2024-02-01T14:45:18.865897Z",
     "iopub.status.idle": "2024-02-01T14:45:18.892286Z",
     "shell.execute_reply": "2024-02-01T14:45:18.891444Z"
    },
    "papermill": {
     "duration": 0.037498,
     "end_time": "2024-02-01T14:45:18.894668",
     "exception": false,
     "start_time": "2024-02-01T14:45:18.857170",
     "status": "completed"
    },
    "tags": []
   },
   "outputs": [
    {
     "name": "stdout",
     "output_type": "stream",
     "text": [
      "<class 'pandas.core.frame.DataFrame'>\n",
      "RangeIndex: 891 entries, 0 to 890\n",
      "Data columns (total 12 columns):\n",
      " #   Column       Non-Null Count  Dtype  \n",
      "---  ------       --------------  -----  \n",
      " 0   PassengerId  891 non-null    int64  \n",
      " 1   Survived     891 non-null    int64  \n",
      " 2   Pclass       891 non-null    int64  \n",
      " 3   Name         891 non-null    object \n",
      " 4   Sex          891 non-null    object \n",
      " 5   Age          714 non-null    float64\n",
      " 6   SibSp        891 non-null    int64  \n",
      " 7   Parch        891 non-null    int64  \n",
      " 8   Ticket       891 non-null    object \n",
      " 9   Fare         891 non-null    float64\n",
      " 10  Cabin        204 non-null    object \n",
      " 11  Embarked     889 non-null    object \n",
      "dtypes: float64(2), int64(5), object(5)\n",
      "memory usage: 83.7+ KB\n"
     ]
    }
   ],
   "source": [
    "train.info()"
   ]
  },
  {
   "cell_type": "code",
   "execution_count": 5,
   "id": "bd592245",
   "metadata": {
    "execution": {
     "iopub.execute_input": "2024-02-01T14:45:18.911659Z",
     "iopub.status.busy": "2024-02-01T14:45:18.911281Z",
     "iopub.status.idle": "2024-02-01T14:45:18.922541Z",
     "shell.execute_reply": "2024-02-01T14:45:18.921539Z"
    },
    "papermill": {
     "duration": 0.022334,
     "end_time": "2024-02-01T14:45:18.924747",
     "exception": false,
     "start_time": "2024-02-01T14:45:18.902413",
     "status": "completed"
    },
    "tags": []
   },
   "outputs": [],
   "source": [
    "# drop unhelpful feature from the observation\n",
    "train.drop(['Name', 'Ticket', 'Cabin'], axis=1, inplace=True)\n",
    "# drop NaN rows\n",
    "train.dropna(subset=['Age', 'Embarked'], inplace=True)\n",
    "# train.dropna(subset=['Cabin'], inplace=True)"
   ]
  },
  {
   "cell_type": "code",
   "execution_count": 6,
   "id": "ae70e007",
   "metadata": {
    "execution": {
     "iopub.execute_input": "2024-02-01T14:45:18.941153Z",
     "iopub.status.busy": "2024-02-01T14:45:18.940849Z",
     "iopub.status.idle": "2024-02-01T14:45:18.954409Z",
     "shell.execute_reply": "2024-02-01T14:45:18.953562Z"
    },
    "papermill": {
     "duration": 0.024572,
     "end_time": "2024-02-01T14:45:18.956696",
     "exception": false,
     "start_time": "2024-02-01T14:45:18.932124",
     "status": "completed"
    },
    "tags": []
   },
   "outputs": [
    {
     "data": {
      "text/html": [
       "<div>\n",
       "<style scoped>\n",
       "    .dataframe tbody tr th:only-of-type {\n",
       "        vertical-align: middle;\n",
       "    }\n",
       "\n",
       "    .dataframe tbody tr th {\n",
       "        vertical-align: top;\n",
       "    }\n",
       "\n",
       "    .dataframe thead th {\n",
       "        text-align: right;\n",
       "    }\n",
       "</style>\n",
       "<table border=\"1\" class=\"dataframe\">\n",
       "  <thead>\n",
       "    <tr style=\"text-align: right;\">\n",
       "      <th></th>\n",
       "      <th>PassengerId</th>\n",
       "      <th>Survived</th>\n",
       "      <th>Pclass</th>\n",
       "      <th>Sex</th>\n",
       "      <th>Age</th>\n",
       "      <th>SibSp</th>\n",
       "      <th>Parch</th>\n",
       "      <th>Fare</th>\n",
       "      <th>Embarked</th>\n",
       "    </tr>\n",
       "  </thead>\n",
       "  <tbody>\n",
       "    <tr>\n",
       "      <th>0</th>\n",
       "      <td>1</td>\n",
       "      <td>0</td>\n",
       "      <td>3</td>\n",
       "      <td>male</td>\n",
       "      <td>22.0</td>\n",
       "      <td>1</td>\n",
       "      <td>0</td>\n",
       "      <td>7.2500</td>\n",
       "      <td>S</td>\n",
       "    </tr>\n",
       "    <tr>\n",
       "      <th>1</th>\n",
       "      <td>2</td>\n",
       "      <td>1</td>\n",
       "      <td>1</td>\n",
       "      <td>female</td>\n",
       "      <td>38.0</td>\n",
       "      <td>1</td>\n",
       "      <td>0</td>\n",
       "      <td>71.2833</td>\n",
       "      <td>C</td>\n",
       "    </tr>\n",
       "    <tr>\n",
       "      <th>2</th>\n",
       "      <td>3</td>\n",
       "      <td>1</td>\n",
       "      <td>3</td>\n",
       "      <td>female</td>\n",
       "      <td>26.0</td>\n",
       "      <td>0</td>\n",
       "      <td>0</td>\n",
       "      <td>7.9250</td>\n",
       "      <td>S</td>\n",
       "    </tr>\n",
       "    <tr>\n",
       "      <th>3</th>\n",
       "      <td>4</td>\n",
       "      <td>1</td>\n",
       "      <td>1</td>\n",
       "      <td>female</td>\n",
       "      <td>35.0</td>\n",
       "      <td>1</td>\n",
       "      <td>0</td>\n",
       "      <td>53.1000</td>\n",
       "      <td>S</td>\n",
       "    </tr>\n",
       "    <tr>\n",
       "      <th>4</th>\n",
       "      <td>5</td>\n",
       "      <td>0</td>\n",
       "      <td>3</td>\n",
       "      <td>male</td>\n",
       "      <td>35.0</td>\n",
       "      <td>0</td>\n",
       "      <td>0</td>\n",
       "      <td>8.0500</td>\n",
       "      <td>S</td>\n",
       "    </tr>\n",
       "  </tbody>\n",
       "</table>\n",
       "</div>"
      ],
      "text/plain": [
       "   PassengerId  Survived  Pclass     Sex   Age  SibSp  Parch     Fare Embarked\n",
       "0            1         0       3    male  22.0      1      0   7.2500        S\n",
       "1            2         1       1  female  38.0      1      0  71.2833        C\n",
       "2            3         1       3  female  26.0      0      0   7.9250        S\n",
       "3            4         1       1  female  35.0      1      0  53.1000        S\n",
       "4            5         0       3    male  35.0      0      0   8.0500        S"
      ]
     },
     "execution_count": 6,
     "metadata": {},
     "output_type": "execute_result"
    }
   ],
   "source": [
    "train.head()"
   ]
  },
  {
   "cell_type": "markdown",
   "id": "99ad124f",
   "metadata": {
    "papermill": {
     "duration": 0.007712,
     "end_time": "2024-02-01T14:45:18.972484",
     "exception": false,
     "start_time": "2024-02-01T14:45:18.964772",
     "status": "completed"
    },
    "tags": []
   },
   "source": [
    "### Data Preprocessing"
   ]
  },
  {
   "cell_type": "markdown",
   "id": "5f73c544",
   "metadata": {
    "papermill": {
     "duration": 0.008331,
     "end_time": "2024-02-01T14:45:18.988398",
     "exception": false,
     "start_time": "2024-02-01T14:45:18.980067",
     "status": "completed"
    },
    "tags": []
   },
   "source": [
    "#### Data Transformation"
   ]
  },
  {
   "cell_type": "code",
   "execution_count": 7,
   "id": "e020fc75",
   "metadata": {
    "execution": {
     "iopub.execute_input": "2024-02-01T14:45:19.005340Z",
     "iopub.status.busy": "2024-02-01T14:45:19.004985Z",
     "iopub.status.idle": "2024-02-01T14:45:19.024973Z",
     "shell.execute_reply": "2024-02-01T14:45:19.024167Z"
    },
    "papermill": {
     "duration": 0.031058,
     "end_time": "2024-02-01T14:45:19.027210",
     "exception": false,
     "start_time": "2024-02-01T14:45:18.996152",
     "status": "completed"
    },
    "tags": []
   },
   "outputs": [],
   "source": [
    "# convert categorical data into numerical data\n",
    "# use get_dummies() to perform one-hot encoding on 'Sex' and 'Embarked'\n",
    "train = pd.get_dummies(train, columns=['Sex', 'Embarked'])\n",
    "# separate the feature matrix and the target value\n",
    "X = train.drop('Survived', axis=1)\n",
    "y = train['Survived']\n",
    "\n",
    "# normalize the data\n",
    "# split the dataset into train and test\n",
    "X_train, X_test, y_train, y_test = train_test_split(X, y, test_size=0.3, random_state=42)\n",
    "\n",
    "# initialize the scaler\n",
    "scaler = StandardScaler()\n",
    "# fit on training set only\n",
    "scaler.fit(X_train)\n",
    "# apply transform to both the training set and the test set\n",
    "X_train = scaler.transform(X_train)\n",
    "X_test = scaler.transform(X_test)"
   ]
  },
  {
   "cell_type": "markdown",
   "id": "6d3af614",
   "metadata": {
    "papermill": {
     "duration": 0.00769,
     "end_time": "2024-02-01T14:45:19.043031",
     "exception": false,
     "start_time": "2024-02-01T14:45:19.035341",
     "status": "completed"
    },
    "tags": []
   },
   "source": [
    "#### Feature Engineering"
   ]
  },
  {
   "cell_type": "code",
   "execution_count": null,
   "id": "a5915de0",
   "metadata": {
    "papermill": {
     "duration": 0.007461,
     "end_time": "2024-02-01T14:45:19.058734",
     "exception": false,
     "start_time": "2024-02-01T14:45:19.051273",
     "status": "completed"
    },
    "tags": []
   },
   "outputs": [],
   "source": []
  },
  {
   "cell_type": "markdown",
   "id": "0d6959ec",
   "metadata": {
    "papermill": {
     "duration": 0.007516,
     "end_time": "2024-02-01T14:45:19.073712",
     "exception": false,
     "start_time": "2024-02-01T14:45:19.066196",
     "status": "completed"
    },
    "tags": []
   },
   "source": [
    "### Data Modeling"
   ]
  },
  {
   "cell_type": "markdown",
   "id": "bc193b11",
   "metadata": {
    "papermill": {
     "duration": 0.007667,
     "end_time": "2024-02-01T14:45:19.088781",
     "exception": false,
     "start_time": "2024-02-01T14:45:19.081114",
     "status": "completed"
    },
    "tags": []
   },
   "source": [
    "> > ### K-Nearest Neighbors: \n",
    "> > This is a type of instance-based supervised learning algorithm used for both classification and regression.  \n",
    "> \n",
    "> Pros:\n",
    "> 1. simple to understand and implement.\n",
    "> 2. no need to build a model, tune several parameters.\n",
    "> 3. the algorithm is versatile, it can be used for classification, regression and search (as in recommender system).\n",
    "> \n",
    "> Cons:\n",
    "> 1. the algorithm gets significantly slower as the dataset grows.\n",
    "> 2. requires high memory - needs to store all the training data.\n",
    "> 3. sensitive to the scale of the data and irrelevant features.\n",
    "> 4. typically not as accurate as more sophisticated methods, especially on datasets with a lot of features."
   ]
  },
  {
   "cell_type": "code",
   "execution_count": 8,
   "id": "d01992cb",
   "metadata": {
    "execution": {
     "iopub.execute_input": "2024-02-01T14:45:19.106149Z",
     "iopub.status.busy": "2024-02-01T14:45:19.105776Z",
     "iopub.status.idle": "2024-02-01T14:45:19.111803Z",
     "shell.execute_reply": "2024-02-01T14:45:19.110831Z"
    },
    "papermill": {
     "duration": 0.017293,
     "end_time": "2024-02-01T14:45:19.113887",
     "exception": false,
     "start_time": "2024-02-01T14:45:19.096594",
     "status": "completed"
    },
    "tags": []
   },
   "outputs": [],
   "source": [
    "def train_and_evaluate_knn(X_train, y_train, X_test, y_test, n_neighbors=3):\n",
    "    '''Train a K-Nearest Neighbors classifier and evaluate its accuracy.'''\n",
    "    \n",
    "    # initialize the KNN classifier\n",
    "    knn = KNeighborsClassifier(n_neighbors=n_neighbors)\n",
    "    # fit the model on the training data\n",
    "    knn.fit(X_train, y_train)\n",
    "    # predict the labels for the test set\n",
    "    y_pred = knn.predict(X_test)\n",
    "    # calculate the accuracy of the model\n",
    "    accuracy = accuracy_score(y_test, y_pred)\n",
    "\n",
    "    print(f'Accuracy: {accuracy: .2f}')"
   ]
  },
  {
   "cell_type": "code",
   "execution_count": 9,
   "id": "de0272aa",
   "metadata": {
    "execution": {
     "iopub.execute_input": "2024-02-01T14:45:19.131239Z",
     "iopub.status.busy": "2024-02-01T14:45:19.130906Z",
     "iopub.status.idle": "2024-02-01T14:45:19.154824Z",
     "shell.execute_reply": "2024-02-01T14:45:19.153794Z"
    },
    "papermill": {
     "duration": 0.03509,
     "end_time": "2024-02-01T14:45:19.156924",
     "exception": false,
     "start_time": "2024-02-01T14:45:19.121834",
     "status": "completed"
    },
    "tags": []
   },
   "outputs": [
    {
     "name": "stdout",
     "output_type": "stream",
     "text": [
      "Accuracy:  0.78\n"
     ]
    }
   ],
   "source": [
    "# test it when K is 3\n",
    "train_and_evaluate_knn(X_train, y_train, X_test, y_test, n_neighbors=3)"
   ]
  },
  {
   "cell_type": "code",
   "execution_count": 10,
   "id": "ce2a875f",
   "metadata": {
    "execution": {
     "iopub.execute_input": "2024-02-01T14:45:19.175725Z",
     "iopub.status.busy": "2024-02-01T14:45:19.175386Z",
     "iopub.status.idle": "2024-02-01T14:45:20.677830Z",
     "shell.execute_reply": "2024-02-01T14:45:20.676726Z"
    },
    "papermill": {
     "duration": 1.514557,
     "end_time": "2024-02-01T14:45:20.680299",
     "exception": false,
     "start_time": "2024-02-01T14:45:19.165742",
     "status": "completed"
    },
    "tags": []
   },
   "outputs": [
    {
     "name": "stdout",
     "output_type": "stream",
     "text": [
      "The best value for 'k' is 4\n"
     ]
    }
   ],
   "source": [
    "#### implement K-fold cross-validation to choose the optimal K\n",
    "knn = KNeighborsClassifier()\n",
    "# define the parameter grid\n",
    "param_grid = {'n_neighbors': range(1, 31)}\n",
    "# use GridSearchCV\n",
    "grid_search = GridSearchCV(knn, param_grid, cv=5) # cv is the number of folds\n",
    "# fit the grid search to the data\n",
    "grid_search.fit(X_train, y_train)\n",
    "# get the best parameter\n",
    "best_k = grid_search.best_params_['n_neighbors']\n",
    "print(f\"The best value for 'k' is {best_k}\")"
   ]
  },
  {
   "cell_type": "code",
   "execution_count": 11,
   "id": "d0977a5b",
   "metadata": {
    "execution": {
     "iopub.execute_input": "2024-02-01T14:45:20.698257Z",
     "iopub.status.busy": "2024-02-01T14:45:20.697941Z",
     "iopub.status.idle": "2024-02-01T14:45:20.721737Z",
     "shell.execute_reply": "2024-02-01T14:45:20.720768Z"
    },
    "papermill": {
     "duration": 0.035246,
     "end_time": "2024-02-01T14:45:20.723925",
     "exception": false,
     "start_time": "2024-02-01T14:45:20.688679",
     "status": "completed"
    },
    "tags": []
   },
   "outputs": [
    {
     "name": "stdout",
     "output_type": "stream",
     "text": [
      "Accuracy:  0.78\n"
     ]
    }
   ],
   "source": [
    "# test it when K is 20\n",
    "train_and_evaluate_knn(X_train, y_train, X_test, y_test, n_neighbors=20)"
   ]
  },
  {
   "cell_type": "markdown",
   "id": "c815d719",
   "metadata": {
    "papermill": {
     "duration": 0.007651,
     "end_time": "2024-02-01T14:45:20.739658",
     "exception": false,
     "start_time": "2024-02-01T14:45:20.732007",
     "status": "completed"
    },
    "tags": []
   },
   "source": [
    "> > ### Logistic regression: \n",
    "> > This is a statistical model that can model a binomial outcome with one or more explanatory variables. It is used extensively in many fields, including the medical and social sciences.  \n",
    "> \n",
    "> Pros:\n",
    "> 1. it can perform well when the dataset is linearly separable or when the boundary between classes can be approximated with a linear combination of features.\n",
    "> 2. logistic regression not only provides a classification but also gives the probabilities of the outcome, which can be a valuable insight.\n",
    "> 3. can be extended to multiclass classification problems.\n",
    "> 4. it is computationally less intensive.\n",
    "> \n",
    "> Cons:\n",
    "> 1. it assumes a linear relationship between the independent variables and log odds of the dependent variables.\n",
    "> 2. logistic regression can't capture complex relationships with non-linear boundaries as accurately as neural networks and decision trees.\n",
    "> 3. it is sensitive to outliers and may need scale the data."
   ]
  },
  {
   "cell_type": "code",
   "execution_count": 12,
   "id": "4c3b9a68",
   "metadata": {
    "execution": {
     "iopub.execute_input": "2024-02-01T14:45:20.757776Z",
     "iopub.status.busy": "2024-02-01T14:45:20.756827Z",
     "iopub.status.idle": "2024-02-01T14:45:20.781174Z",
     "shell.execute_reply": "2024-02-01T14:45:20.779880Z"
    },
    "papermill": {
     "duration": 0.035733,
     "end_time": "2024-02-01T14:45:20.783351",
     "exception": false,
     "start_time": "2024-02-01T14:45:20.747618",
     "status": "completed"
    },
    "tags": []
   },
   "outputs": [
    {
     "name": "stdout",
     "output_type": "stream",
     "text": [
      "Accuracy:  0.79\n",
      "              precision    recall  f1-score   support\n",
      "\n",
      "           0       0.79      0.87      0.83       122\n",
      "           1       0.80      0.70      0.74        92\n",
      "\n",
      "    accuracy                           0.79       214\n",
      "   macro avg       0.80      0.78      0.79       214\n",
      "weighted avg       0.79      0.79      0.79       214\n",
      "\n"
     ]
    }
   ],
   "source": [
    "# initialize the logistic model\n",
    "logreg = LogisticRegression()\n",
    "# fit the model to the training data\n",
    "logreg.fit(X_train, y_train)\n",
    "# predict probabilities\n",
    "y_pred = logreg.predict(X_test)\n",
    "# calculate the accuracy of the model\n",
    "accuracy = accuracy_score(y_test, y_pred)\n",
    "\n",
    "# evaluate accuracy\n",
    "print(f\"Accuracy: {accuracy: .2f}\")\n",
    "\n",
    "# evaluate classification report\n",
    "print(classification_report(y_test, y_pred))"
   ]
  },
  {
   "cell_type": "code",
   "execution_count": 13,
   "id": "d762fda1",
   "metadata": {
    "execution": {
     "iopub.execute_input": "2024-02-01T14:45:20.801804Z",
     "iopub.status.busy": "2024-02-01T14:45:20.801439Z",
     "iopub.status.idle": "2024-02-01T14:45:20.809250Z",
     "shell.execute_reply": "2024-02-01T14:45:20.808122Z"
    },
    "papermill": {
     "duration": 0.019334,
     "end_time": "2024-02-01T14:45:20.811492",
     "exception": false,
     "start_time": "2024-02-01T14:45:20.792158",
     "status": "completed"
    },
    "tags": []
   },
   "outputs": [
    {
     "name": "stdout",
     "output_type": "stream",
     "text": [
      "             Coefficient\n",
      "PassengerId     0.081795\n",
      "Pclass         -1.231483\n",
      "Age            -0.571095\n",
      "SibSp          -0.269481\n",
      "Parch           0.010455\n",
      "Fare           -0.010707\n",
      "Sex_female      0.678744\n",
      "Sex_male       -0.678744\n",
      "Embarked_C      0.057743\n",
      "Embarked_Q     -0.011158\n",
      "Embarked_S     -0.049136\n"
     ]
    }
   ],
   "source": [
    "# access the model's coefficients and intercept\n",
    "coefficients = logreg.coef_\n",
    "intercept = logreg.intercept_\n",
    "# matching the coefficients to the feature names\n",
    "feature_importance = pd.DataFrame(data=coefficients.T, index=X.columns, columns=['Coefficient'])\n",
    "print(feature_importance)"
   ]
  },
  {
   "cell_type": "markdown",
   "id": "c3b93d7d",
   "metadata": {
    "papermill": {
     "duration": 0.007935,
     "end_time": "2024-02-01T14:45:20.827759",
     "exception": false,
     "start_time": "2024-02-01T14:45:20.819824",
     "status": "completed"
    },
    "tags": []
   },
   "source": []
  },
  {
   "cell_type": "code",
   "execution_count": 14,
   "id": "c0c01dad",
   "metadata": {
    "execution": {
     "iopub.execute_input": "2024-02-01T14:45:20.846317Z",
     "iopub.status.busy": "2024-02-01T14:45:20.845979Z",
     "iopub.status.idle": "2024-02-01T14:45:20.849511Z",
     "shell.execute_reply": "2024-02-01T14:45:20.848789Z"
    },
    "papermill": {
     "duration": 0.015198,
     "end_time": "2024-02-01T14:45:20.851348",
     "exception": false,
     "start_time": "2024-02-01T14:45:20.836150",
     "status": "completed"
    },
    "tags": []
   },
   "outputs": [],
   "source": [
    "# rf = RandomForestClassifier(n_estimators=100, random_state=42)"
   ]
  }
 ],
 "metadata": {
  "kaggle": {
   "accelerator": "none",
   "dataSources": [
    {
     "databundleVersionId": 26502,
     "sourceId": 3136,
     "sourceType": "competition"
    }
   ],
   "dockerImageVersionId": 30646,
   "isGpuEnabled": false,
   "isInternetEnabled": true,
   "language": "python",
   "sourceType": "notebook"
  },
  "kernelspec": {
   "display_name": "Python 3",
   "language": "python",
   "name": "python3"
  },
  "language_info": {
   "codemirror_mode": {
    "name": "ipython",
    "version": 3
   },
   "file_extension": ".py",
   "mimetype": "text/x-python",
   "name": "python",
   "nbconvert_exporter": "python",
   "pygments_lexer": "ipython3",
   "version": "3.10.13"
  },
  "papermill": {
   "default_parameters": {},
   "duration": 7.755671,
   "end_time": "2024-02-01T14:45:21.379322",
   "environment_variables": {},
   "exception": null,
   "input_path": "__notebook__.ipynb",
   "output_path": "__notebook__.ipynb",
   "parameters": {},
   "start_time": "2024-02-01T14:45:13.623651",
   "version": "2.5.0"
  }
 },
 "nbformat": 4,
 "nbformat_minor": 5
}
